{
 "cells": [
  {
   "cell_type": "code",
   "execution_count": 1,
   "metadata": {},
   "outputs": [],
   "source": [
    "%load_ext autoreload\n",
    "%autoreload 2\n",
    "import os\n",
    "import sys\n",
    "import numpy as np\n",
    "import _pickle as pkl\n",
    "import matplotlib.pyplot as plt\n",
    "import plotly.express as px\n",
    "from rulefit import RuleFit\n",
    "from sklearn.model_selection import train_test_split\n",
    "from sklearn.inspection import permutation_importance\n",
    "import itertools\n",
    "import pandas as pd\n",
    "from tqdm import tqdm\n",
    "from utils import *\n",
    "from sklearn.decomposition import TruncatedSVD\n",
    "from sklearn.ensemble import RandomForestClassifier\n",
    "from sklearn.tree import DecisionTreeClassifier\n",
    "from sklearn.model_selection import train_test_split\n",
    "from sklearn.neighbors import KNeighborsClassifier \n",
    "from sklearn.decomposition import PCA\n",
    "from sklearn.preprocessing import OneHotEncoder\n",
    "%matplotlib inline"
   ]
  },
  {
   "cell_type": "markdown",
   "metadata": {},
   "source": [
    "Load dataset"
   ]
  },
  {
   "cell_type": "code",
   "execution_count": 2,
   "metadata": {},
   "outputs": [],
   "source": [
    "chosen_features = None\n",
    "dataset = pkl.load(open('./bankrupcy.pkl', 'rb'))\n",
    "y_all = dataset['y']\n",
    "if 'Shell weight' in dataset['num_names']:\n",
    "    y_all = (y_all > 9).astype(int)\n",
    "elif 'num_procedures' in dataset['num_names']:\n",
    "    y_all = (y_all > 0).astype(int)\n",
    "X = np.concatenate([dataset['X_num'], dataset['X_cat']], -1)\n",
    "baseline = return_baseline(dataset['X_num'], dataset['X_cat'])\n",
    "feature_names = np.concatenate([dataset['num_names'], dataset['cat_names']])\n",
    "if chosen_features is None:\n",
    "    chosen_features = np.arange(len(X[0]))\n",
    "X_all = X[:, chosen_features]\n",
    "baseline = baseline[chosen_features]\n",
    "features = np.array(['X{}'.format(str(i).zfill(3)) for i in range(X_all.shape[-1])])\n",
    "features_dic = {'X{}'.format(str(i).zfill(3)): feature_names[chosen_features[i]] for i in range(X_all.shape[-1])}\n",
    "fn = ['\\n'.join(['-\\n'.join([j[:7], j[7:]])  if len(j)>7 else j for j in i.split('\\n')]) for i in feature_names]"
   ]
  },
  {
   "cell_type": "code",
   "execution_count": 3,
   "metadata": {
    "scrolled": true
   },
   "outputs": [
    {
     "data": {
      "text/html": [
       "<div>\n",
       "<style scoped>\n",
       "    .dataframe tbody tr th:only-of-type {\n",
       "        vertical-align: middle;\n",
       "    }\n",
       "\n",
       "    .dataframe tbody tr th {\n",
       "        vertical-align: top;\n",
       "    }\n",
       "\n",
       "    .dataframe thead th {\n",
       "        text-align: right;\n",
       "    }\n",
       "</style>\n",
       "<table border=\"1\" class=\"dataframe\">\n",
       "  <thead>\n",
       "    <tr style=\"text-align: right;\">\n",
       "      <th></th>\n",
       "      <th>net profit / total assets</th>\n",
       "      <th>total liabilities / total assets</th>\n",
       "      <th>working capital / total assets</th>\n",
       "      <th>current assets / short-term liabilities</th>\n",
       "      <th>[(cash + short-term securities + receivables - short-term liabilities) / (operating expenses - depreciation)] * 365</th>\n",
       "      <th>retained earnings / total assets</th>\n",
       "      <th>EBIT / total assets</th>\n",
       "      <th>book value of equity / total liabilities</th>\n",
       "      <th>sales / total assets</th>\n",
       "      <th>equity / total assets</th>\n",
       "      <th>...</th>\n",
       "      <th>working capital</th>\n",
       "      <th>(sales - cost of products sold) / sales</th>\n",
       "      <th>(current assets - inventory - short-term liabilities) / (sales - gross profit - depreciation)</th>\n",
       "      <th>total costs /total sales</th>\n",
       "      <th>long-term liabilities / equity</th>\n",
       "      <th>sales / inventory</th>\n",
       "      <th>sales / receivables</th>\n",
       "      <th>(short-term liabilities *365) / sales</th>\n",
       "      <th>sales / short-term liabilities</th>\n",
       "      <th>sales / fixed assets</th>\n",
       "    </tr>\n",
       "  </thead>\n",
       "  <tbody>\n",
       "    <tr>\n",
       "      <th>0</th>\n",
       "      <td>0.200550</td>\n",
       "      <td>0.37951</td>\n",
       "      <td>0.396410</td>\n",
       "      <td>2.0472</td>\n",
       "      <td>32.351</td>\n",
       "      <td>0.388250</td>\n",
       "      <td>0.249760</td>\n",
       "      <td>1.33050</td>\n",
       "      <td>1.1389</td>\n",
       "      <td>0.50494</td>\n",
       "      <td>...</td>\n",
       "      <td>348690.0000</td>\n",
       "      <td>0.121960</td>\n",
       "      <td>0.397180</td>\n",
       "      <td>0.87804</td>\n",
       "      <td>0.001924</td>\n",
       "      <td>8.4160</td>\n",
       "      <td>5.1372</td>\n",
       "      <td>82.658</td>\n",
       "      <td>4.4158</td>\n",
       "      <td>7.42770</td>\n",
       "    </tr>\n",
       "    <tr>\n",
       "      <th>1</th>\n",
       "      <td>0.009020</td>\n",
       "      <td>0.63202</td>\n",
       "      <td>0.053735</td>\n",
       "      <td>1.1263</td>\n",
       "      <td>-37.842</td>\n",
       "      <td>0.000000</td>\n",
       "      <td>0.014434</td>\n",
       "      <td>0.58223</td>\n",
       "      <td>1.3332</td>\n",
       "      <td>0.36798</td>\n",
       "      <td>...</td>\n",
       "      <td>1.1263</td>\n",
       "      <td>0.180110</td>\n",
       "      <td>0.024512</td>\n",
       "      <td>0.84165</td>\n",
       "      <td>0.340940</td>\n",
       "      <td>9.9665</td>\n",
       "      <td>4.2382</td>\n",
       "      <td>116.500</td>\n",
       "      <td>3.1330</td>\n",
       "      <td>2.56030</td>\n",
       "    </tr>\n",
       "    <tr>\n",
       "      <th>2</th>\n",
       "      <td>0.266690</td>\n",
       "      <td>0.34994</td>\n",
       "      <td>0.611470</td>\n",
       "      <td>3.0243</td>\n",
       "      <td>43.087</td>\n",
       "      <td>0.559830</td>\n",
       "      <td>0.332070</td>\n",
       "      <td>1.85770</td>\n",
       "      <td>1.1268</td>\n",
       "      <td>0.65006</td>\n",
       "      <td>...</td>\n",
       "      <td>5340.0000</td>\n",
       "      <td>0.112500</td>\n",
       "      <td>0.410250</td>\n",
       "      <td>0.88750</td>\n",
       "      <td>0.073630</td>\n",
       "      <td>9.5593</td>\n",
       "      <td>5.6298</td>\n",
       "      <td>38.168</td>\n",
       "      <td>9.5629</td>\n",
       "      <td>33.41300</td>\n",
       "    </tr>\n",
       "    <tr>\n",
       "      <th>3</th>\n",
       "      <td>0.067731</td>\n",
       "      <td>0.19885</td>\n",
       "      <td>0.081562</td>\n",
       "      <td>2.9576</td>\n",
       "      <td>90.606</td>\n",
       "      <td>0.212650</td>\n",
       "      <td>0.078063</td>\n",
       "      <td>4.02900</td>\n",
       "      <td>1.2570</td>\n",
       "      <td>0.80115</td>\n",
       "      <td>...</td>\n",
       "      <td>15132.0000</td>\n",
       "      <td>0.204440</td>\n",
       "      <td>0.084542</td>\n",
       "      <td>0.79556</td>\n",
       "      <td>0.196190</td>\n",
       "      <td>8.2122</td>\n",
       "      <td>2.7917</td>\n",
       "      <td>60.218</td>\n",
       "      <td>6.0613</td>\n",
       "      <td>0.28803</td>\n",
       "    </tr>\n",
       "    <tr>\n",
       "      <th>4</th>\n",
       "      <td>-0.029182</td>\n",
       "      <td>0.21131</td>\n",
       "      <td>0.452640</td>\n",
       "      <td>7.5746</td>\n",
       "      <td>57.844</td>\n",
       "      <td>0.010387</td>\n",
       "      <td>-0.034653</td>\n",
       "      <td>3.73240</td>\n",
       "      <td>1.0241</td>\n",
       "      <td>0.78869</td>\n",
       "      <td>...</td>\n",
       "      <td>34549.0000</td>\n",
       "      <td>0.023565</td>\n",
       "      <td>-0.037001</td>\n",
       "      <td>0.97644</td>\n",
       "      <td>0.180630</td>\n",
       "      <td>3.4646</td>\n",
       "      <td>11.3380</td>\n",
       "      <td>31.807</td>\n",
       "      <td>11.4750</td>\n",
       "      <td>1.65110</td>\n",
       "    </tr>\n",
       "  </tbody>\n",
       "</table>\n",
       "<p>5 rows × 64 columns</p>\n",
       "</div>"
      ],
      "text/plain": [
       "   net profit / total assets   total liabilities / total assets   \\\n",
       "0                    0.200550                            0.37951   \n",
       "1                    0.009020                            0.63202   \n",
       "2                    0.266690                            0.34994   \n",
       "3                    0.067731                            0.19885   \n",
       "4                   -0.029182                            0.21131   \n",
       "\n",
       "   working capital / total assets   current assets / short-term liabilities   \\\n",
       "0                         0.396410                                    2.0472   \n",
       "1                         0.053735                                    1.1263   \n",
       "2                         0.611470                                    3.0243   \n",
       "3                         0.081562                                    2.9576   \n",
       "4                         0.452640                                    7.5746   \n",
       "\n",
       "   [(cash + short-term securities + receivables - short-term liabilities) / (operating expenses - depreciation)] * 365   \\\n",
       "0                                             32.351                                                                      \n",
       "1                                            -37.842                                                                      \n",
       "2                                             43.087                                                                      \n",
       "3                                             90.606                                                                      \n",
       "4                                             57.844                                                                      \n",
       "\n",
       "   retained earnings / total assets   EBIT / total assets   \\\n",
       "0                           0.388250              0.249760   \n",
       "1                           0.000000              0.014434   \n",
       "2                           0.559830              0.332070   \n",
       "3                           0.212650              0.078063   \n",
       "4                           0.010387             -0.034653   \n",
       "\n",
       "   book value of equity / total liabilities   sales / total assets   \\\n",
       "0                                    1.33050                 1.1389   \n",
       "1                                    0.58223                 1.3332   \n",
       "2                                    1.85770                 1.1268   \n",
       "3                                    4.02900                 1.2570   \n",
       "4                                    3.73240                 1.0241   \n",
       "\n",
       "   equity / total assets   ...  working capital   \\\n",
       "0                 0.50494  ...       348690.0000   \n",
       "1                 0.36798  ...            1.1263   \n",
       "2                 0.65006  ...         5340.0000   \n",
       "3                 0.80115  ...        15132.0000   \n",
       "4                 0.78869  ...        34549.0000   \n",
       "\n",
       "   (sales - cost of products sold) / sales   \\\n",
       "0                                  0.121960   \n",
       "1                                  0.180110   \n",
       "2                                  0.112500   \n",
       "3                                  0.204440   \n",
       "4                                  0.023565   \n",
       "\n",
       "   (current assets - inventory - short-term liabilities) / (sales - gross profit - depreciation)   \\\n",
       "0                                           0.397180                                                \n",
       "1                                           0.024512                                                \n",
       "2                                           0.410250                                                \n",
       "3                                           0.084542                                                \n",
       "4                                          -0.037001                                                \n",
       "\n",
       "   total costs /total sales   long-term liabilities / equity   \\\n",
       "0                    0.87804                         0.001924   \n",
       "1                    0.84165                         0.340940   \n",
       "2                    0.88750                         0.073630   \n",
       "3                    0.79556                         0.196190   \n",
       "4                    0.97644                         0.180630   \n",
       "\n",
       "   sales / inventory   sales / receivables   \\\n",
       "0              8.4160                5.1372   \n",
       "1              9.9665                4.2382   \n",
       "2              9.5593                5.6298   \n",
       "3              8.2122                2.7917   \n",
       "4              3.4646               11.3380   \n",
       "\n",
       "   (short-term liabilities *365) / sales   sales / short-term liabilities   \\\n",
       "0                                  82.658                           4.4158   \n",
       "1                                 116.500                           3.1330   \n",
       "2                                  38.168                           9.5629   \n",
       "3                                  60.218                           6.0613   \n",
       "4                                  31.807                          11.4750   \n",
       "\n",
       "   sales / fixed assets  \n",
       "0               7.42770  \n",
       "1               2.56030  \n",
       "2              33.41300  \n",
       "3               0.28803  \n",
       "4               1.65110  \n",
       "\n",
       "[5 rows x 64 columns]"
      ]
     },
     "execution_count": 3,
     "metadata": {},
     "output_type": "execute_result"
    }
   ],
   "source": [
    "pd.DataFrame(X, columns=feature_names).head()"
   ]
  },
  {
   "cell_type": "markdown",
   "metadata": {},
   "source": [
    "Train test split"
   ]
  },
  {
   "cell_type": "code",
   "execution_count": 4,
   "metadata": {},
   "outputs": [],
   "source": [
    "balanced = True ## To balance dataset between labels\n",
    "npoints = None"
   ]
  },
  {
   "cell_type": "code",
   "execution_count": 5,
   "metadata": {
    "scrolled": true
   },
   "outputs": [
    {
     "name": "stdout",
     "output_type": "stream",
     "text": [
      "864\n"
     ]
    }
   ],
   "source": [
    "if balanced:\n",
    "    X_all, y_all = balanced_dataset(X_all, y_all, max_size=10000)\n",
    "X_train, X_test, y_train, y_test = train_test_split(X_all, y_all, test_size=0.2, stratify=y_all)\n",
    "print(len(X_all))"
   ]
  },
  {
   "cell_type": "markdown",
   "metadata": {},
   "source": [
    "## Rulefit"
   ]
  },
  {
   "cell_type": "code",
   "execution_count": 8,
   "metadata": {},
   "outputs": [],
   "source": [
    "from featurevec import FeatureVec"
   ]
  },
  {
   "cell_type": "code",
   "execution_count": 9,
   "metadata": {},
   "outputs": [],
   "source": [
    "fv = FeatureVec('classify', max_depth=3, max_sentences=100000, \n",
    "                feature_names=list(feature_names),\n",
    "                exp_rand_tree_size=False,\n",
    "               tree_generator=None)\n",
    "fv.fit(X_train, y_train, bagging=5)\n",
    "print(fv.predictor.score(X_test, y_test)) ## Model accuracy"
   ]
  },
  {
   "cell_type": "code",
   "execution_count": 12,
   "metadata": {},
   "outputs": [
    {
     "data": {
      "application/vnd.plotly.v1+json": {
       "config": {
        "plotlyServerURL": "https://plot.ly"
       },
       "data": [
        {
         "customdata": [
          [
           -0.03721557866747234,
           0.1415020570929081,
           -0.2571795946298906,
           "net profit / total assets "
          ],
          [
           0.01718915359375133,
           0.4246082892740313,
           0.04046028600168393,
           "total liabilities / total assets "
          ],
          [
           0.006326237868690274,
           0.04585424592498977,
           0.13709858166190025,
           "working capital / total assets "
          ],
          [
           0.007712071329860549,
           0.17123242410583567,
           0.04500819936032967,
           "current assets / short-term liabilities "
          ],
          [
           -0.006405186947397219,
           0.1676954572950168,
           -0.03817679360063453,
           "[(cash + short-term securities + receivables - short-term liabilities) / (operating expenses - depreciation)] * 365 "
          ],
          [
           0.2275387791155072,
           0.6619535467583643,
           0.3310856026472824,
           "retained earnings / total assets "
          ],
          [
           0.0004954233315050362,
           0.0601645214853789,
           0.008234290277261233,
           "EBIT / total assets "
          ],
          [
           -0.02765978602829501,
           0.2374595363002399,
           -0.1159595371594716,
           "book value of equity / total liabilities "
          ],
          [
           0.10302733743364274,
           0.3437348181412265,
           0.2912082698771298,
           "sales / total assets "
          ],
          [
           -0.022007931472482103,
           0.2523189185644157,
           -0.08700249020459913,
           "equity / total assets "
          ],
          [
           0.04096792201064919,
           0.0912547332706487,
           0.4219722808307184,
           "(gross profit + extraordinary items + financial expenses) / total assets "
          ],
          [
           -0.06296854204842019,
           0.32664508204334364,
           -0.1904375222286172,
           "gross profit / short-term liabilities "
          ],
          [
           -0.19220135802643573,
           0.5421391166660717,
           -0.34069945894450737,
           "(gross profit + depreciation) / sales "
          ],
          [
           0.0010457660868374687,
           0.06144014069073496,
           0.017019250000379894,
           "(gross profit + interest) / total assets "
          ],
          [
           -0.012131822735903859,
           0.12256673645830495,
           -0.09866000045078684,
           "(total liabilities * 365) / (gross profit + depreciation) "
          ],
          [
           -0.28755706686252386,
           0.7243248140652636,
           -0.3779176358041527,
           "(gross profit + depreciation) / total liabilities "
          ],
          [
           -0.020553766370008303,
           0.4461770514468975,
           -0.04603384610159891,
           "total assets / total liabilities "
          ],
          [
           -0.00955713325731248,
           0.07800257932452732,
           -0.12191565674328354,
           "gross profit / total assets "
          ],
          [
           -0.04937131035910345,
           0.1316944815963603,
           -0.3586766661461123,
           "gross profit / sales "
          ],
          [
           0.008286263356518107,
           0.04147016113028263,
           0.19721542223508826,
           "(inventory * 365) / sales "
          ],
          [
           -0.0016813253891170446,
           0.05640030025956825,
           -0.029801749259193464,
           "sales (n) / sales (n-1) "
          ],
          [
           -0.0036246772347278203,
           0.06703463853441688,
           -0.05401910040444585,
           "profit on operating activities / total assets "
          ],
          [
           -0.044925874880263415,
           0.19783135393223136,
           -0.2233045373003284,
           "net profit / sales "
          ],
          [
           0.006755588927197857,
           0.09558563379805113,
           0.0705584515976471,
           "gross profit (in 3 years) / total assets "
          ],
          [
           0.06279005956849855,
           0.6792004175096061,
           0.092185004932526,
           "(equity - share capital) / total assets "
          ],
          [
           -0.32673727389460777,
           0.865802215613352,
           -0.3608564541439868,
           "(net profit + depreciation) / total liabilities "
          ],
          [
           0.09888149873849256,
           0.3880075294468169,
           0.2495327612715739,
           "profit on operating activities / financial expenses "
          ],
          [
           0.0129032138297422,
           0.0478728755166433,
           0.2632744516202611,
           "working capital / fixed assets "
          ],
          [
           0.08791922464666051,
           0.19626673580642592,
           0.4211543738165612,
           "logarithm of total assets "
          ],
          [
           -0.025051082746446483,
           0.07597204889215403,
           -0.31851378022934923,
           "(total liabilities - cash) / sales "
          ],
          [
           -0.013164207278760384,
           0.0655476840018133,
           -0.1981974085642141,
           "(gross profit + interest) / sales "
          ],
          [
           -0.017044297119337068,
           0.10068320357648397,
           -0.16769651968902058,
           "(current liabilities * 365) / cost of products sold "
          ],
          [
           -0.013997297176469687,
           0.07343068287765342,
           -0.18835949314409312,
           "operating expenses / short-term liabilities "
          ],
          [
           0.4604580343817922,
           0.8876814736003317,
           0.4785111190768855,
           "operating expenses / total liabilities "
          ],
          [
           -0.00950515440505238,
           0.27172565925678743,
           -0.03496644476789205,
           "profit on sales / total assets "
          ],
          [
           -0.015512521894531069,
           0.060067272691610864,
           -0.25273049152995825,
           "total sales / total assets "
          ],
          [
           0.006145871439130494,
           0.04276229875127936,
           0.14274424459349008,
           "(current assets - inventories) / long-term liabilities "
          ],
          [
           0.04476936512312717,
           0.2324788591208347,
           0.19024500796883434,
           "constant capital / total assets "
          ],
          [
           -0.05926676231119124,
           0.3725409612313568,
           -0.15776581096455314,
           "profit on sales / sales "
          ],
          [
           0.0029996303501152364,
           0.04271628742659147,
           0.07010708378240693,
           "(current assets - inventory - receivables) / short-term liabilities "
          ],
          [
           0.0130030028157958,
           0.1319050298975539,
           0.09826105078428288,
           "total liabilities / ((profit on operating activities + depreciation) * (12/365)) "
          ],
          [
           -0.029163862483773038,
           0.07849270143584712,
           -0.3557414597003479,
           "profit on operating activities / sales "
          ],
          [
           0.004937321246335707,
           0.06060171877211424,
           0.08129209226025165,
           "rotation receivables + inventory turnover in days "
          ],
          [
           0.0014264441463200561,
           0.06406555302188126,
           0.022261705870185663,
           "(receivables * 365) / sales "
          ],
          [
           -0.01168456708629146,
           0.08639677764984198,
           -0.13442745822273722,
           "net profit / inventory "
          ],
          [
           0.03735722141281421,
           0.4225755917330741,
           0.08817441860041485,
           "(current assets - inventory) / short-term liabilities "
          ],
          [
           0.006999265794273788,
           0.04628483266198727,
           0.15008443793417442,
           "(inventory * 365) / cost of products sold "
          ],
          [
           0.016424800559589784,
           0.043079130667717375,
           0.3642567071814207,
           "EBITDA (profit on operating activities - depreciation) / total assets "
          ],
          [
           -0.0004690970139539087,
           0.03918550536656228,
           -0.011970615227101631,
           "EBITDA (profit on operating activities - depreciation) / sales "
          ],
          [
           -0.011277566711826349,
           0.06894545627806213,
           -0.16213643781309986,
           "current assets / total liabilities "
          ],
          [
           0.034681352885287516,
           0.18472269576636352,
           0.18558770588776854,
           "short-term liabilities / total assets "
          ],
          [
           -0.019378091416691848,
           0.06090326078032785,
           -0.3080495182415915,
           "(short-term liabilities * 365) / cost of products sold) "
          ],
          [
           0.0090843382301097,
           0.0498002940619016,
           0.18043150086379275,
           "equity / fixed assets "
          ],
          [
           0.006910678595703239,
           0.0678514119964578,
           0.10150017734917828,
           "constant capital / fixed assets "
          ],
          [
           0.013032748210611109,
           0.11872710468834037,
           0.1093328860914626,
           "working capital "
          ],
          [
           0.00453682510413119,
           0.08310723356098923,
           0.05453588413350508,
           "(sales - cost of products sold) / sales "
          ],
          [
           -0.002869749581731357,
           0.05965685792541175,
           -0.04806721634921675,
           "(current assets - inventory - short-term liabilities) / (sales - gross profit - depreciation) "
          ],
          [
           0.015381587623394834,
           0.09267399801576726,
           0.16447584750690306,
           "total costs /total sales "
          ],
          [
           0.012714487102532179,
           0.06869825546993867,
           0.1830064996343048,
           "long-term liabilities / equity "
          ],
          [
           0.015298283636191675,
           0.044274757500753784,
           0.3326876381948334,
           "sales / inventory "
          ],
          [
           0.0015957554849258607,
           0.06723261792546176,
           0.02373038538456741,
           "sales / receivables "
          ],
          [
           -0.02068211245451035,
           0.10769342964559954,
           -0.1897360958766808,
           "(short-term liabilities *365) / sales "
          ],
          [
           -0.017390236720986597,
           0.11155810842017663,
           -0.15464042952557158,
           "sales / short-term liabilities "
          ],
          [
           -0.013200938269831292,
           0.058052753357090335,
           -0.22359339626196864,
           "sales / fixed assets"
          ],
          [
           0,
           0,
           -0.4785111190768855,
           "origin"
          ],
          [
           0,
           0,
           0.4785111190768855,
           ""
          ]
         ],
         "hovertemplate": "<b>%{hovertext}</b><br><br><extra></extra>",
         "hovertext": [
          "net profit / total assets ",
          "total liabilities / total assets ",
          "working capital / total assets ",
          "current assets / short-term liabilities ",
          "[(cash + short-term securities + receivables - short-term liabilities) / (operating expenses - depreciation)] * 365 ",
          "retained earnings / total assets ",
          "EBIT / total assets ",
          "book value of equity / total liabilities ",
          "sales / total assets ",
          "equity / total assets ",
          "(gross profit + extraordinary items + financial expenses) / total assets ",
          "gross profit / short-term liabilities ",
          "(gross profit + depreciation) / sales ",
          "(gross profit + interest) / total assets ",
          "(total liabilities * 365) / (gross profit + depreciation) ",
          "(gross profit + depreciation) / total liabilities ",
          "total assets / total liabilities ",
          "gross profit / total assets ",
          "gross profit / sales ",
          "(inventory * 365) / sales ",
          "sales (n) / sales (n-1) ",
          "profit on operating activities / total assets ",
          "net profit / sales ",
          "gross profit (in 3 years) / total assets ",
          "(equity - share capital) / total assets ",
          "(net profit + depreciation) / total liabilities ",
          "profit on operating activities / financial expenses ",
          "working capital / fixed assets ",
          "logarithm of total assets ",
          "(total liabilities - cash) / sales ",
          "(gross profit + interest) / sales ",
          "(current liabilities * 365) / cost of products sold ",
          "operating expenses / short-term liabilities ",
          "operating expenses / total liabilities ",
          "profit on sales / total assets ",
          "total sales / total assets ",
          "(current assets - inventories) / long-term liabilities ",
          "constant capital / total assets ",
          "profit on sales / sales ",
          "(current assets - inventory - receivables) / short-term liabilities ",
          "total liabilities / ((profit on operating activities + depreciation) * (12/365)) ",
          "profit on operating activities / sales ",
          "rotation receivables + inventory turnover in days ",
          "(receivables * 365) / sales ",
          "net profit / inventory ",
          "(current assets - inventory) / short-term liabilities ",
          "(inventory * 365) / cost of products sold ",
          "EBITDA (profit on operating activities - depreciation) / total assets ",
          "EBITDA (profit on operating activities - depreciation) / sales ",
          "current assets / total liabilities ",
          "short-term liabilities / total assets ",
          "(short-term liabilities * 365) / cost of products sold) ",
          "equity / fixed assets ",
          "constant capital / fixed assets ",
          "working capital ",
          "(sales - cost of products sold) / sales ",
          "(current assets - inventory - short-term liabilities) / (sales - gross profit - depreciation) ",
          "total costs /total sales ",
          "long-term liabilities / equity ",
          "sales / inventory ",
          "sales / receivables ",
          "(short-term liabilities *365) / sales ",
          "sales / short-term liabilities ",
          "sales / fixed assets",
          "origin",
          ""
         ],
         "legendgroup": "",
         "marker": {
          "color": [
           -0.2571795946298906,
           0.04046028600168393,
           0.13709858166190025,
           0.04500819936032967,
           -0.03817679360063453,
           0.3310856026472824,
           0.008234290277261233,
           -0.1159595371594716,
           0.2912082698771298,
           -0.08700249020459913,
           0.4219722808307184,
           -0.1904375222286172,
           -0.34069945894450737,
           0.017019250000379894,
           -0.09866000045078684,
           -0.3779176358041527,
           -0.04603384610159891,
           -0.12191565674328354,
           -0.3586766661461123,
           0.19721542223508826,
           -0.029801749259193464,
           -0.05401910040444585,
           -0.2233045373003284,
           0.0705584515976471,
           0.092185004932526,
           -0.3608564541439868,
           0.2495327612715739,
           0.2632744516202611,
           0.4211543738165612,
           -0.31851378022934923,
           -0.1981974085642141,
           -0.16769651968902058,
           -0.18835949314409312,
           0.4785111190768855,
           -0.03496644476789205,
           -0.25273049152995825,
           0.14274424459349008,
           0.19024500796883434,
           -0.15776581096455314,
           0.07010708378240693,
           0.09826105078428288,
           -0.3557414597003479,
           0.08129209226025165,
           0.022261705870185663,
           -0.13442745822273722,
           0.08817441860041485,
           0.15008443793417442,
           0.3642567071814207,
           -0.011970615227101631,
           -0.16213643781309986,
           0.18558770588776854,
           -0.3080495182415915,
           0.18043150086379275,
           0.10150017734917828,
           0.1093328860914626,
           0.05453588413350508,
           -0.04806721634921675,
           0.16447584750690306,
           0.1830064996343048,
           0.3326876381948334,
           0.02373038538456741,
           -0.1897360958766808,
           -0.15464042952557158,
           -0.22359339626196864,
           -0.4785111190768855,
           0.4785111190768855
          ],
          "coloraxis": "coloraxis",
          "size": 10,
          "symbol": "circle"
         },
         "mode": "markers",
         "name": "",
         "orientation": "v",
         "showlegend": false,
         "textfont": {
          "size": 15
         },
         "type": "scatter",
         "x": [
          -0.03721557866747234,
          0.01718915359375133,
          0.006326237868690274,
          0.007712071329860549,
          -0.006405186947397219,
          0.2275387791155072,
          0.0004954233315050362,
          -0.02765978602829501,
          0.10302733743364274,
          -0.022007931472482103,
          0.04096792201064919,
          -0.06296854204842019,
          -0.19220135802643573,
          0.0010457660868374687,
          -0.012131822735903859,
          -0.28755706686252386,
          -0.020553766370008303,
          -0.00955713325731248,
          -0.04937131035910345,
          0.008286263356518107,
          -0.0016813253891170446,
          -0.0036246772347278203,
          -0.044925874880263415,
          0.006755588927197857,
          0.06279005956849855,
          -0.32673727389460777,
          0.09888149873849256,
          0.0129032138297422,
          0.08791922464666051,
          -0.025051082746446483,
          -0.013164207278760384,
          -0.017044297119337068,
          -0.013997297176469687,
          0.4604580343817922,
          -0.00950515440505238,
          -0.015512521894531069,
          0.006145871439130494,
          0.04476936512312717,
          -0.05926676231119124,
          0.0029996303501152364,
          0.0130030028157958,
          -0.029163862483773038,
          0.004937321246335707,
          0.0014264441463200561,
          -0.01168456708629146,
          0.03735722141281421,
          0.006999265794273788,
          0.016424800559589784,
          -0.0004690970139539087,
          -0.011277566711826349,
          0.034681352885287516,
          -0.019378091416691848,
          0.0090843382301097,
          0.006910678595703239,
          0.013032748210611109,
          0.00453682510413119,
          -0.002869749581731357,
          0.015381587623394834,
          0.012714487102532179,
          0.015298283636191675,
          0.0015957554849258607,
          -0.02068211245451035,
          -0.017390236720986597,
          -0.013200938269831292,
          0,
          0
         ],
         "xaxis": "x",
         "y": [
          0.1415020570929081,
          0.4246082892740313,
          0.04585424592498977,
          0.17123242410583567,
          0.1676954572950168,
          0.6619535467583643,
          0.0601645214853789,
          0.2374595363002399,
          0.3437348181412265,
          0.2523189185644157,
          0.0912547332706487,
          0.32664508204334364,
          0.5421391166660717,
          0.06144014069073496,
          0.12256673645830495,
          0.7243248140652636,
          0.4461770514468975,
          0.07800257932452732,
          0.1316944815963603,
          0.04147016113028263,
          0.05640030025956825,
          0.06703463853441688,
          0.19783135393223136,
          0.09558563379805113,
          0.6792004175096061,
          0.865802215613352,
          0.3880075294468169,
          0.0478728755166433,
          0.19626673580642592,
          0.07597204889215403,
          0.0655476840018133,
          0.10068320357648397,
          0.07343068287765342,
          0.8876814736003317,
          0.27172565925678743,
          0.060067272691610864,
          0.04276229875127936,
          0.2324788591208347,
          0.3725409612313568,
          0.04271628742659147,
          0.1319050298975539,
          0.07849270143584712,
          0.06060171877211424,
          0.06406555302188126,
          0.08639677764984198,
          0.4225755917330741,
          0.04628483266198727,
          0.043079130667717375,
          0.03918550536656228,
          0.06894545627806213,
          0.18472269576636352,
          0.06090326078032785,
          0.0498002940619016,
          0.0678514119964578,
          0.11872710468834037,
          0.08310723356098923,
          0.05965685792541175,
          0.09267399801576726,
          0.06869825546993867,
          0.044274757500753784,
          0.06723261792546176,
          0.10769342964559954,
          0.11155810842017663,
          0.058052753357090335,
          0,
          0
         ],
         "yaxis": "y"
        }
       ],
       "layout": {
        "coloraxis": {
         "colorbar": {
          "title": {
           "text": "angles"
          }
         },
         "colorscale": [
          [
           0,
           "rgb(150,0,90)"
          ],
          [
           0.125,
           "rgb(0,0,200)"
          ],
          [
           0.25,
           "rgb(0,25,255)"
          ],
          [
           0.375,
           "rgb(0,152,255)"
          ],
          [
           0.5,
           "rgb(44,255,150)"
          ],
          [
           0.625,
           "rgb(151,255,0)"
          ],
          [
           0.75,
           "rgb(255,234,0)"
          ],
          [
           0.875,
           "rgb(255,111,0)"
          ],
          [
           1,
           "rgb(255,0,0)"
          ]
         ],
         "showscale": false
        },
        "height": 500,
        "legend": {
         "tracegroupgap": 0
        },
        "margin": {
         "t": 60
        },
        "shapes": [
         {
          "line": {
           "color": "red",
           "dash": "dot",
           "width": 3
          },
          "opacity": 0.5,
          "type": "circle",
          "x0": 0.11000000000000001,
          "x1": -0.11000000000000001,
          "y0": 0.11000000000000001,
          "y1": -0.11000000000000001
         },
         {
          "line": {
           "color": "red",
           "dash": "dot",
           "width": 3
          },
          "opacity": 0.5,
          "type": "circle",
          "x0": 0.22000000000000003,
          "x1": -0.22000000000000003,
          "y0": 0.22000000000000003,
          "y1": -0.22000000000000003
         },
         {
          "line": {
           "color": "red",
           "dash": "dot",
           "width": 3
          },
          "opacity": 0.5,
          "type": "circle",
          "x0": 0.33,
          "x1": -0.33,
          "y0": 0.33,
          "y1": -0.33
         },
         {
          "line": {
           "color": "red",
           "dash": "dot",
           "width": 3
          },
          "opacity": 0.5,
          "type": "circle",
          "x0": 0.44000000000000006,
          "x1": -0.44000000000000006,
          "y0": 0.44000000000000006,
          "y1": -0.44000000000000006
         },
         {
          "line": {
           "color": "red",
           "dash": "dot",
           "width": 3
          },
          "opacity": 0.5,
          "type": "circle",
          "x0": 0.55,
          "x1": -0.55,
          "y0": 0.55,
          "y1": -0.55
         },
         {
          "line": {
           "color": "red",
           "dash": "dot",
           "width": 3
          },
          "opacity": 0.5,
          "type": "circle",
          "x0": 0.66,
          "x1": -0.66,
          "y0": 0.66,
          "y1": -0.66
         },
         {
          "line": {
           "color": "red",
           "dash": "dot",
           "width": 3
          },
          "opacity": 0.5,
          "type": "circle",
          "x0": 0.77,
          "x1": -0.77,
          "y0": 0.77,
          "y1": -0.77
         },
         {
          "line": {
           "color": "red",
           "dash": "dot",
           "width": 3
          },
          "opacity": 0.5,
          "type": "circle",
          "x0": 0.8800000000000001,
          "x1": -0.8800000000000001,
          "y0": 0.8800000000000001,
          "y1": -0.8800000000000001
         },
         {
          "line": {
           "color": "red",
           "dash": "dot",
           "width": 3
          },
          "opacity": 0.5,
          "type": "circle",
          "x0": 0.9900000000000001,
          "x1": -0.9900000000000001,
          "y0": 0.9900000000000001,
          "y1": -0.9900000000000001
         },
         {
          "line": {
           "color": "red",
           "dash": "dot",
           "width": 3
          },
          "opacity": 0.5,
          "type": "circle",
          "x0": 1.1,
          "x1": -1.1,
          "y0": 1.1,
          "y1": -1.1
         },
         {
          "line": {
           "color": "gray",
           "dash": "solid",
           "width": 1
          },
          "opacity": 0.5,
          "type": "circle",
          "x0": 0.046499650885779224,
          "x1": -0.12093080822072388,
          "y0": 0.1647483385421469,
          "y1": 0.11825577564366932
         },
         {
          "line": {
           "color": "gray",
           "dash": "solid",
           "width": 1
          },
          "opacity": 0.5,
          "type": "circle",
          "x0": 0.06756725601027197,
          "x1": -0.033188948822769314,
          "y0": 0.42612707027173524,
          "y1": 0.42308950827632763
         },
         {
          "line": {
           "color": "gray",
           "dash": "solid",
           "width": 1
          },
          "opacity": 0.5,
          "type": "circle",
          "x0": 0.15878048265506728,
          "x1": -0.14612800691768674,
          "y0": 0.07326839135008871,
          "y1": 0.018440100499890824
         },
         {
          "line": {
           "color": "gray",
           "dash": "solid",
           "width": 1
          },
          "opacity": 0.5,
          "type": "circle",
          "x0": 0.06969406435337114,
          "x1": -0.05426992169365003,
          "y0": 0.17399233874732106,
          "y1": 0.16847250946435027
         },
         {
          "line": {
           "color": "gray",
           "dash": "solid",
           "width": 1
          },
          "opacity": 0.5,
          "type": "circle",
          "x0": 0.06085331636855588,
          "x1": -0.07366369026335032,
          "y0": 0.16970584974098046,
          "y1": 0.16568506484905315
         },
         {
          "line": {
           "color": "gray",
           "dash": "solid",
           "width": 1
          },
          "opacity": 0.5,
          "type": "circle",
          "x0": 0.2628733781449263,
          "x1": 0.19220418008608808,
          "y0": 0.6743679795779352,
          "y1": 0.6495391139387934
         },
         {
          "line": {
           "color": "gray",
           "dash": "solid",
           "width": 1
          },
          "opacity": 0.5,
          "type": "circle",
          "x0": 0.13781179777007924,
          "x1": -0.13682095110706916,
          "y0": 0.06527591851195491,
          "y1": 0.05505312445880288
         },
         {
          "line": {
           "color": "gray",
           "dash": "solid",
           "width": 1
          },
          "opacity": 0.5,
          "type": "circle",
          "x0": 0.052906006459162186,
          "x1": -0.10822557851575221,
          "y0": 0.24849955772721555,
          "y1": 0.22641951487326428
         },
         {
          "line": {
           "color": "gray",
           "dash": "solid",
           "width": 1
          },
          "opacity": 0.5,
          "type": "circle",
          "x0": 0.14748802162950353,
          "x1": 0.058566653237781964,
          "y0": 0.35726769683152293,
          "y1": 0.33020193945093
         },
         {
          "line": {
           "color": "gray",
           "dash": "solid",
           "width": 1
          },
          "opacity": 0.5,
          "type": "circle",
          "x0": 0.058526089976076584,
          "x1": -0.10254195292104079,
          "y0": 0.2580228112579156,
          "y1": 0.24661502587091588
         },
         {
          "line": {
           "color": "gray",
           "dash": "solid",
           "width": 1
          },
          "opacity": 0.5,
          "type": "circle",
          "x0": 0.132156177025114,
          "x1": -0.05022033300381563,
          "y0": 0.13031170311398016,
          "y1": 0.05219776342731726
         },
         {
          "line": {
           "color": "gray",
           "dash": "solid",
           "width": 1
          },
          "opacity": 0.5,
          "type": "circle",
          "x0": -0.041432061778854376,
          "x1": -0.084505022317986,
          "y0": 0.33096082511702024,
          "y1": 0.32232933896966703
         },
         {
          "line": {
           "color": "gray",
           "dash": "solid",
           "width": 1
          },
          "opacity": 0.5,
          "type": "circle",
          "x0": -0.1554351785242042,
          "x1": -0.22896753752866728,
          "y0": 0.5555554685161124,
          "y1": 0.5287227648160311
         },
         {
          "line": {
           "color": "gray",
           "dash": "solid",
           "width": 1
          },
          "opacity": 0.5,
          "type": "circle",
          "x0": 0.08457225778293295,
          "x1": -0.08248072560925801,
          "y0": 0.06609676132239863,
          "y1": 0.0567835200590713
         },
         {
          "line": {
           "color": "gray",
           "dash": "solid",
           "width": 1
          },
          "opacity": 0.5,
          "type": "circle",
          "x0": 0.04473854745179364,
          "x1": -0.06900219292360137,
          "y0": 0.12840158445501101,
          "y1": 0.11673188846159886
         },
         {
          "line": {
           "color": "gray",
           "dash": "solid",
           "width": 1
          },
          "opacity": 0.5,
          "type": "circle",
          "x0": -0.24605690105409195,
          "x1": -0.32905723267095577,
          "y0": 0.7410779639251773,
          "y1": 0.7075716642053499
         },
         {
          "line": {
           "color": "gray",
           "dash": "solid",
           "width": 1
          },
          "opacity": 0.5,
          "type": "circle",
          "x0": 0.035509766751403174,
          "x1": -0.07661729949141978,
          "y0": 0.4488043264867553,
          "y1": 0.44354977640703963
         },
         {
          "line": {
           "color": "gray",
           "dash": "solid",
           "width": 1
          },
          "opacity": 0.5,
          "type": "circle",
          "x0": 0.04391417068145125,
          "x1": -0.0630284371960762,
          "y0": 0.08458207958278033,
          "y1": 0.07142307906627432
         },
         {
          "line": {
           "color": "gray",
           "dash": "solid",
           "width": 1
          },
          "opacity": 0.5,
          "type": "circle",
          "x0": 0.029779080474769286,
          "x1": -0.12852170119297618,
          "y0": 0.1636853970093523,
          "y1": 0.09970356618336829
         },
         {
          "line": {
           "color": "gray",
           "dash": "solid",
           "width": 1
          },
          "opacity": 0.5,
          "type": "circle",
          "x0": 0.10793322889632145,
          "x1": -0.09136070218328524,
          "y0": 0.06078251909036435,
          "y1": 0.022157803170200916
         },
         {
          "line": {
           "color": "gray",
           "dash": "solid",
           "width": 1
          },
          "opacity": 0.5,
          "type": "circle",
          "x0": 0.07058703989240685,
          "x1": -0.07394969067064093,
          "y0": 0.05716028829501808,
          "y1": 0.055640312224118416
         },
         {
          "line": {
           "color": "gray",
           "dash": "solid",
           "width": 1
          },
          "opacity": 0.5,
          "type": "circle",
          "x0": 0.09702157675487619,
          "x1": -0.10427093122433181,
          "y0": 0.06927537947735354,
          "y1": 0.06479389759148019
         },
         {
          "line": {
           "color": "gray",
           "dash": "solid",
           "width": 1
          },
          "opacity": 0.5,
          "type": "circle",
          "x0": -0.0004900777887314328,
          "x1": -0.08936167197179538,
          "y0": 0.20836993170327275,
          "y1": 0.18729277616118997
         },
         {
          "line": {
           "color": "gray",
           "dash": "solid",
           "width": 1
          },
          "opacity": 0.5,
          "type": "circle",
          "x0": 0.09387324434091442,
          "x1": -0.08036206648651871,
          "y0": 0.10075846665018062,
          "y1": 0.0904128009459216
         },
         {
          "line": {
           "color": "gray",
           "dash": "solid",
           "width": 1
          },
          "opacity": 0.5,
          "type": "circle",
          "x0": 0.1400737880255397,
          "x1": -0.014493668888542602,
          "y0": 0.6867291528953042,
          "y1": 0.671671682123908
         },
         {
          "line": {
           "color": "gray",
           "dash": "solid",
           "width": 1
          },
          "opacity": 0.5,
          "type": "circle",
          "x0": -0.2914125412660636,
          "x1": -0.36206200652315196,
          "y0": 0.8797561313537684,
          "y1": 0.8518482998729356
         },
         {
          "line": {
           "color": "gray",
           "dash": "solid",
           "width": 1
          },
          "opacity": 0.5,
          "type": "circle",
          "x0": 0.1620229065823084,
          "x1": 0.03574009089467674,
          "y0": 0.40447919218387013,
          "y1": 0.37153586670976374
         },
         {
          "line": {
           "color": "gray",
           "dash": "solid",
           "width": 1
          },
          "opacity": 0.5,
          "type": "circle",
          "x0": 0.18717546909850521,
          "x1": -0.16136904143902084,
          "y0": 0.08971396107171269,
          "y1": 0.0060317899615739135
         },
         {
          "line": {
           "color": "gray",
           "dash": "solid",
           "width": 1
          },
          "opacity": 0.5,
          "type": "circle",
          "x0": 0.10642514270380772,
          "x1": 0.0694133065895133,
          "y0": 0.20461710951013887,
          "y1": 0.18791636210271298
         },
         {
          "line": {
           "color": "gray",
           "dash": "solid",
           "width": 1
          },
          "opacity": 0.5,
          "type": "circle",
          "x0": 0.035186445354001984,
          "x1": -0.08528861084689496,
          "y0": 0.09648204095894652,
          "y1": 0.05546205682536153
         },
         {
          "line": {
           "color": "gray",
           "dash": "solid",
           "width": 1
          },
          "opacity": 0.5,
          "type": "circle",
          "x0": 0.17883748738889574,
          "x1": -0.2051659019464165,
          "y0": 0.1081746905395031,
          "y1": 0.022920677464123483
         },
         {
          "line": {
           "color": "gray",
           "dash": "solid",
           "width": 1
          },
          "opacity": 0.5,
          "type": "circle",
          "x0": 0.08374467692033294,
          "x1": -0.11783327115900707,
          "y0": 0.1199717035039593,
          "y1": 0.08139470364900867
         },
         {
          "line": {
           "color": "gray",
           "dash": "solid",
           "width": 1
          },
          "opacity": 0.5,
          "type": "circle",
          "x0": 0.0847763014892057,
          "x1": -0.11277089584214509,
          "y0": 0.0921368465278055,
          "y1": 0.054724519227501336
         },
         {
          "line": {
           "color": "gray",
           "dash": "solid",
           "width": 1
          },
          "opacity": 0.5,
          "type": "circle",
          "x0": 0.49436005622942947,
          "x1": 0.42655601253415487,
          "y0": 0.9053734425843354,
          "y1": 0.869989504616328
         },
         {
          "line": {
           "color": "gray",
           "dash": "solid",
           "width": 1
          },
          "opacity": 0.5,
          "type": "circle",
          "x0": 0.05334732478255287,
          "x1": -0.07235763359265764,
          "y0": 0.27461798579114305,
          "y1": 0.2688333327224318
         },
         {
          "line": {
           "color": "gray",
           "dash": "solid",
           "width": 1
          },
          "opacity": 0.5,
          "type": "circle",
          "x0": 0.09154729498350989,
          "x1": -0.12257233877257201,
          "y0": 0.08928416583784454,
          "y1": 0.030850379545377192
         },
         {
          "line": {
           "color": "gray",
           "dash": "solid",
           "width": 1
          },
          "opacity": 0.5,
          "type": "circle",
          "x0": 0.08397769460710505,
          "x1": -0.07168595172884407,
          "y0": 0.055244550797971484,
          "y1": 0.030280046704587244
         },
         {
          "line": {
           "color": "gray",
           "dash": "solid",
           "width": 1
          },
          "opacity": 0.5,
          "type": "circle",
          "x0": 0.12657697142077817,
          "x1": -0.03703824117452382,
          "y0": 0.24845407351505064,
          "y1": 0.2165036447266188
         },
         {
          "line": {
           "color": "gray",
           "dash": "solid",
           "width": 1
          },
          "opacity": 0.5,
          "type": "circle",
          "x0": -0.01633716666121527,
          "x1": -0.10219635796116722,
          "y0": 0.3797720837681474,
          "y1": 0.36530983869456624
         },
         {
          "line": {
           "color": "gray",
           "dash": "solid",
           "width": 1
          },
          "opacity": 0.5,
          "type": "circle",
          "x0": 0.0853356995062414,
          "x1": -0.07933643880601093,
          "y0": 0.05055565313198969,
          "y1": 0.03487692172119325
         },
         {
          "line": {
           "color": "gray",
           "dash": "solid",
           "width": 1
          },
          "opacity": 0.5,
          "type": "circle",
          "x0": 0.08897175303604474,
          "x1": -0.06296574740445315,
          "y0": 0.13976429521611045,
          "y1": 0.12404576457899734
         },
         {
          "line": {
           "color": "gray",
           "dash": "solid",
           "width": 1
          },
          "opacity": 0.5,
          "type": "circle",
          "x0": 0.12036431669170175,
          "x1": -0.17869204165924782,
          "y0": 0.1281580665444574,
          "y1": 0.02882733632723683
         },
         {
          "line": {
           "color": "gray",
           "dash": "solid",
           "width": 1
          },
          "opacity": 0.5,
          "type": "circle",
          "x0": 0.16457336663401395,
          "x1": -0.15469872414134256,
          "y0": 0.07254166982112441,
          "y1": 0.048661767723104044
         },
         {
          "line": {
           "color": "gray",
           "dash": "solid",
           "width": 1
          },
          "opacity": 0.5,
          "type": "circle",
          "x0": 0.0924210212057051,
          "x1": -0.089568132913065,
          "y0": 0.06527261007882257,
          "y1": 0.06285849596493995
         },
         {
          "line": {
           "color": "gray",
           "dash": "solid",
           "width": 1
          },
          "opacity": 0.5,
          "type": "circle",
          "x0": 0.10278601021219028,
          "x1": -0.1261551443847732,
          "y0": 0.10026206589963228,
          "y1": 0.07253148940005168
         },
         {
          "line": {
           "color": "gray",
           "dash": "solid",
           "width": 1
          },
          "opacity": 0.5,
          "type": "circle",
          "x0": 0.09204604624165287,
          "x1": -0.017331603416024452,
          "y0": 0.42724388407076913,
          "y1": 0.41790729939537913
         },
         {
          "line": {
           "color": "gray",
           "dash": "solid",
           "width": 1
          },
          "opacity": 0.5,
          "type": "circle",
          "x0": 0.029552193308725525,
          "x1": -0.015553661720177952,
          "y0": 0.049565916701643835,
          "y1": 0.0430037486223307
         },
         {
          "line": {
           "color": "gray",
           "dash": "solid",
           "width": 1
          },
          "opacity": 0.5,
          "type": "circle",
          "x0": 0.05177771196568233,
          "x1": -0.018928110846502758,
          "y0": 0.056937307207784,
          "y1": 0.02922095412765075
         },
         {
          "line": {
           "color": "gray",
           "dash": "solid",
           "width": 1
          },
          "opacity": 0.5,
          "type": "circle",
          "x0": 0.13244389730949646,
          "x1": -0.13338209133740425,
          "y0": 0.045371634986821216,
          "y1": 0.032999375746303336
         },
         {
          "line": {
           "color": "gray",
           "dash": "solid",
           "width": 1
          },
          "opacity": 0.5,
          "type": "circle",
          "x0": 0.05135820733037308,
          "x1": -0.07391334075402578,
          "y0": 0.07713675350939195,
          "y1": 0.06075415904673229
         },
         {
          "line": {
           "color": "gray",
           "dash": "solid",
           "width": 1
          },
          "opacity": 0.5,
          "type": "circle",
          "x0": 0.07253039266173561,
          "x1": -0.0031676868911605927,
          "y0": 0.19158514558329343,
          "y1": 0.17786024594943362
         },
         {
          "line": {
           "color": "gray",
           "dash": "solid",
           "width": 1
          },
          "opacity": 0.5,
          "type": "circle",
          "x0": 0.04837125555566403,
          "x1": -0.08712743838904773,
          "y0": 0.08454028031920546,
          "y1": 0.03726624124145025
         },
         {
          "line": {
           "color": "gray",
           "dash": "solid",
           "width": 1
          },
          "opacity": 0.5,
          "type": "circle",
          "x0": 0.08801516074522867,
          "x1": -0.06984648428500925,
          "y0": 0.06623960487801236,
          "y1": 0.03336098324579085
         },
         {
          "line": {
           "color": "gray",
           "dash": "solid",
           "width": 1
          },
          "opacity": 0.5,
          "type": "circle",
          "x0": 0.04769993515620014,
          "x1": -0.03387857796479366,
          "y0": 0.0722847059869882,
          "y1": 0.0634181180059274
         },
         {
          "line": {
           "color": "gray",
           "dash": "solid",
           "width": 1
          },
          "opacity": 0.5,
          "type": "circle",
          "x0": 0.12512734230195022,
          "x1": -0.09906184588072799,
          "y0": 0.1318778150345355,
          "y1": 0.10557639434214527
         },
         {
          "line": {
           "color": "gray",
           "dash": "solid",
           "width": 1
          },
          "opacity": 0.5,
          "type": "circle",
          "x0": 0.14837858482561841,
          "x1": -0.13930493461735602,
          "y0": 0.09108855598559965,
          "y1": 0.07512591113637881
         },
         {
          "line": {
           "color": "gray",
           "dash": "solid",
           "width": 1
          },
          "opacity": 0.5,
          "type": "circle",
          "x0": 0.09179779703297536,
          "x1": -0.09753729619643808,
          "y0": 0.06370854728327034,
          "y1": 0.055605168567553154
         },
         {
          "line": {
           "color": "gray",
           "dash": "solid",
           "width": 1
          },
          "opacity": 0.5,
          "type": "circle",
          "x0": 0.1073512706538722,
          "x1": -0.07658809540708253,
          "y0": 0.10676657191305955,
          "y1": 0.07858142411847496
         },
         {
          "line": {
           "color": "gray",
           "dash": "solid",
           "width": 1
          },
          "opacity": 0.5,
          "type": "circle",
          "x0": 0.11521802428709707,
          "x1": -0.08978905008203272,
          "y0": 0.08867904058708698,
          "y1": 0.0487174703527904
         },
         {
          "line": {
           "color": "gray",
           "dash": "solid",
           "width": 1
          },
          "opacity": 0.5,
          "type": "circle",
          "x0": 0.08987509333133659,
          "x1": -0.05927852605895323,
          "y0": 0.07010199630764824,
          "y1": 0.018447518693859313
         },
         {
          "line": {
           "color": "gray",
           "dash": "solid",
           "width": 1
          },
          "opacity": 0.5,
          "type": "circle",
          "x0": 0.09956765339854001,
          "x1": -0.09637614242868828,
          "y0": 0.07146533483739421,
          "y1": 0.0629999010135293
         },
         {
          "line": {
           "color": "gray",
           "dash": "solid",
           "width": 1
          },
          "opacity": 0.5,
          "type": "circle",
          "x0": 0.04985003627684981,
          "x1": -0.0912142611858705,
          "y0": 0.1192135974942504,
          "y1": 0.09617326179694868
         },
         {
          "line": {
           "color": "gray",
           "dash": "solid",
           "width": 1
          },
          "opacity": 0.5,
          "type": "circle",
          "x0": 0.019971145651472785,
          "x1": -0.054751619093445975,
          "y0": 0.11815347540428126,
          "y1": 0.10496274143607204
         },
         {
          "line": {
           "color": "gray",
           "dash": "solid",
           "width": 1
          },
          "opacity": 0.5,
          "type": "circle",
          "x0": 0.02593254489092668,
          "x1": -0.052334421430589265,
          "y0": 0.0677877786469202,
          "y1": 0.048317728067260486
         }
        ],
        "showlegend": false,
        "template": {
         "data": {
          "bar": [
           {
            "error_x": {
             "color": "#2a3f5f"
            },
            "error_y": {
             "color": "#2a3f5f"
            },
            "marker": {
             "line": {
              "color": "#E5ECF6",
              "width": 0.5
             }
            },
            "type": "bar"
           }
          ],
          "barpolar": [
           {
            "marker": {
             "line": {
              "color": "#E5ECF6",
              "width": 0.5
             }
            },
            "type": "barpolar"
           }
          ],
          "carpet": [
           {
            "aaxis": {
             "endlinecolor": "#2a3f5f",
             "gridcolor": "white",
             "linecolor": "white",
             "minorgridcolor": "white",
             "startlinecolor": "#2a3f5f"
            },
            "baxis": {
             "endlinecolor": "#2a3f5f",
             "gridcolor": "white",
             "linecolor": "white",
             "minorgridcolor": "white",
             "startlinecolor": "#2a3f5f"
            },
            "type": "carpet"
           }
          ],
          "choropleth": [
           {
            "colorbar": {
             "outlinewidth": 0,
             "ticks": ""
            },
            "type": "choropleth"
           }
          ],
          "contour": [
           {
            "colorbar": {
             "outlinewidth": 0,
             "ticks": ""
            },
            "colorscale": [
             [
              0,
              "#0d0887"
             ],
             [
              0.1111111111111111,
              "#46039f"
             ],
             [
              0.2222222222222222,
              "#7201a8"
             ],
             [
              0.3333333333333333,
              "#9c179e"
             ],
             [
              0.4444444444444444,
              "#bd3786"
             ],
             [
              0.5555555555555556,
              "#d8576b"
             ],
             [
              0.6666666666666666,
              "#ed7953"
             ],
             [
              0.7777777777777778,
              "#fb9f3a"
             ],
             [
              0.8888888888888888,
              "#fdca26"
             ],
             [
              1,
              "#f0f921"
             ]
            ],
            "type": "contour"
           }
          ],
          "contourcarpet": [
           {
            "colorbar": {
             "outlinewidth": 0,
             "ticks": ""
            },
            "type": "contourcarpet"
           }
          ],
          "heatmap": [
           {
            "colorbar": {
             "outlinewidth": 0,
             "ticks": ""
            },
            "colorscale": [
             [
              0,
              "#0d0887"
             ],
             [
              0.1111111111111111,
              "#46039f"
             ],
             [
              0.2222222222222222,
              "#7201a8"
             ],
             [
              0.3333333333333333,
              "#9c179e"
             ],
             [
              0.4444444444444444,
              "#bd3786"
             ],
             [
              0.5555555555555556,
              "#d8576b"
             ],
             [
              0.6666666666666666,
              "#ed7953"
             ],
             [
              0.7777777777777778,
              "#fb9f3a"
             ],
             [
              0.8888888888888888,
              "#fdca26"
             ],
             [
              1,
              "#f0f921"
             ]
            ],
            "type": "heatmap"
           }
          ],
          "heatmapgl": [
           {
            "colorbar": {
             "outlinewidth": 0,
             "ticks": ""
            },
            "colorscale": [
             [
              0,
              "#0d0887"
             ],
             [
              0.1111111111111111,
              "#46039f"
             ],
             [
              0.2222222222222222,
              "#7201a8"
             ],
             [
              0.3333333333333333,
              "#9c179e"
             ],
             [
              0.4444444444444444,
              "#bd3786"
             ],
             [
              0.5555555555555556,
              "#d8576b"
             ],
             [
              0.6666666666666666,
              "#ed7953"
             ],
             [
              0.7777777777777778,
              "#fb9f3a"
             ],
             [
              0.8888888888888888,
              "#fdca26"
             ],
             [
              1,
              "#f0f921"
             ]
            ],
            "type": "heatmapgl"
           }
          ],
          "histogram": [
           {
            "marker": {
             "colorbar": {
              "outlinewidth": 0,
              "ticks": ""
             }
            },
            "type": "histogram"
           }
          ],
          "histogram2d": [
           {
            "colorbar": {
             "outlinewidth": 0,
             "ticks": ""
            },
            "colorscale": [
             [
              0,
              "#0d0887"
             ],
             [
              0.1111111111111111,
              "#46039f"
             ],
             [
              0.2222222222222222,
              "#7201a8"
             ],
             [
              0.3333333333333333,
              "#9c179e"
             ],
             [
              0.4444444444444444,
              "#bd3786"
             ],
             [
              0.5555555555555556,
              "#d8576b"
             ],
             [
              0.6666666666666666,
              "#ed7953"
             ],
             [
              0.7777777777777778,
              "#fb9f3a"
             ],
             [
              0.8888888888888888,
              "#fdca26"
             ],
             [
              1,
              "#f0f921"
             ]
            ],
            "type": "histogram2d"
           }
          ],
          "histogram2dcontour": [
           {
            "colorbar": {
             "outlinewidth": 0,
             "ticks": ""
            },
            "colorscale": [
             [
              0,
              "#0d0887"
             ],
             [
              0.1111111111111111,
              "#46039f"
             ],
             [
              0.2222222222222222,
              "#7201a8"
             ],
             [
              0.3333333333333333,
              "#9c179e"
             ],
             [
              0.4444444444444444,
              "#bd3786"
             ],
             [
              0.5555555555555556,
              "#d8576b"
             ],
             [
              0.6666666666666666,
              "#ed7953"
             ],
             [
              0.7777777777777778,
              "#fb9f3a"
             ],
             [
              0.8888888888888888,
              "#fdca26"
             ],
             [
              1,
              "#f0f921"
             ]
            ],
            "type": "histogram2dcontour"
           }
          ],
          "mesh3d": [
           {
            "colorbar": {
             "outlinewidth": 0,
             "ticks": ""
            },
            "type": "mesh3d"
           }
          ],
          "parcoords": [
           {
            "line": {
             "colorbar": {
              "outlinewidth": 0,
              "ticks": ""
             }
            },
            "type": "parcoords"
           }
          ],
          "pie": [
           {
            "automargin": true,
            "type": "pie"
           }
          ],
          "scatter": [
           {
            "marker": {
             "colorbar": {
              "outlinewidth": 0,
              "ticks": ""
             }
            },
            "type": "scatter"
           }
          ],
          "scatter3d": [
           {
            "line": {
             "colorbar": {
              "outlinewidth": 0,
              "ticks": ""
             }
            },
            "marker": {
             "colorbar": {
              "outlinewidth": 0,
              "ticks": ""
             }
            },
            "type": "scatter3d"
           }
          ],
          "scattercarpet": [
           {
            "marker": {
             "colorbar": {
              "outlinewidth": 0,
              "ticks": ""
             }
            },
            "type": "scattercarpet"
           }
          ],
          "scattergeo": [
           {
            "marker": {
             "colorbar": {
              "outlinewidth": 0,
              "ticks": ""
             }
            },
            "type": "scattergeo"
           }
          ],
          "scattergl": [
           {
            "marker": {
             "colorbar": {
              "outlinewidth": 0,
              "ticks": ""
             }
            },
            "type": "scattergl"
           }
          ],
          "scattermapbox": [
           {
            "marker": {
             "colorbar": {
              "outlinewidth": 0,
              "ticks": ""
             }
            },
            "type": "scattermapbox"
           }
          ],
          "scatterpolar": [
           {
            "marker": {
             "colorbar": {
              "outlinewidth": 0,
              "ticks": ""
             }
            },
            "type": "scatterpolar"
           }
          ],
          "scatterpolargl": [
           {
            "marker": {
             "colorbar": {
              "outlinewidth": 0,
              "ticks": ""
             }
            },
            "type": "scatterpolargl"
           }
          ],
          "scatterternary": [
           {
            "marker": {
             "colorbar": {
              "outlinewidth": 0,
              "ticks": ""
             }
            },
            "type": "scatterternary"
           }
          ],
          "surface": [
           {
            "colorbar": {
             "outlinewidth": 0,
             "ticks": ""
            },
            "colorscale": [
             [
              0,
              "#0d0887"
             ],
             [
              0.1111111111111111,
              "#46039f"
             ],
             [
              0.2222222222222222,
              "#7201a8"
             ],
             [
              0.3333333333333333,
              "#9c179e"
             ],
             [
              0.4444444444444444,
              "#bd3786"
             ],
             [
              0.5555555555555556,
              "#d8576b"
             ],
             [
              0.6666666666666666,
              "#ed7953"
             ],
             [
              0.7777777777777778,
              "#fb9f3a"
             ],
             [
              0.8888888888888888,
              "#fdca26"
             ],
             [
              1,
              "#f0f921"
             ]
            ],
            "type": "surface"
           }
          ],
          "table": [
           {
            "cells": {
             "fill": {
              "color": "#EBF0F8"
             },
             "line": {
              "color": "white"
             }
            },
            "header": {
             "fill": {
              "color": "#C8D4E3"
             },
             "line": {
              "color": "white"
             }
            },
            "type": "table"
           }
          ]
         },
         "layout": {
          "annotationdefaults": {
           "arrowcolor": "#2a3f5f",
           "arrowhead": 0,
           "arrowwidth": 1
          },
          "autotypenumbers": "strict",
          "coloraxis": {
           "colorbar": {
            "outlinewidth": 0,
            "ticks": ""
           }
          },
          "colorscale": {
           "diverging": [
            [
             0,
             "#8e0152"
            ],
            [
             0.1,
             "#c51b7d"
            ],
            [
             0.2,
             "#de77ae"
            ],
            [
             0.3,
             "#f1b6da"
            ],
            [
             0.4,
             "#fde0ef"
            ],
            [
             0.5,
             "#f7f7f7"
            ],
            [
             0.6,
             "#e6f5d0"
            ],
            [
             0.7,
             "#b8e186"
            ],
            [
             0.8,
             "#7fbc41"
            ],
            [
             0.9,
             "#4d9221"
            ],
            [
             1,
             "#276419"
            ]
           ],
           "sequential": [
            [
             0,
             "#0d0887"
            ],
            [
             0.1111111111111111,
             "#46039f"
            ],
            [
             0.2222222222222222,
             "#7201a8"
            ],
            [
             0.3333333333333333,
             "#9c179e"
            ],
            [
             0.4444444444444444,
             "#bd3786"
            ],
            [
             0.5555555555555556,
             "#d8576b"
            ],
            [
             0.6666666666666666,
             "#ed7953"
            ],
            [
             0.7777777777777778,
             "#fb9f3a"
            ],
            [
             0.8888888888888888,
             "#fdca26"
            ],
            [
             1,
             "#f0f921"
            ]
           ],
           "sequentialminus": [
            [
             0,
             "#0d0887"
            ],
            [
             0.1111111111111111,
             "#46039f"
            ],
            [
             0.2222222222222222,
             "#7201a8"
            ],
            [
             0.3333333333333333,
             "#9c179e"
            ],
            [
             0.4444444444444444,
             "#bd3786"
            ],
            [
             0.5555555555555556,
             "#d8576b"
            ],
            [
             0.6666666666666666,
             "#ed7953"
            ],
            [
             0.7777777777777778,
             "#fb9f3a"
            ],
            [
             0.8888888888888888,
             "#fdca26"
            ],
            [
             1,
             "#f0f921"
            ]
           ]
          },
          "colorway": [
           "#636efa",
           "#EF553B",
           "#00cc96",
           "#ab63fa",
           "#FFA15A",
           "#19d3f3",
           "#FF6692",
           "#B6E880",
           "#FF97FF",
           "#FECB52"
          ],
          "font": {
           "color": "#2a3f5f"
          },
          "geo": {
           "bgcolor": "white",
           "lakecolor": "white",
           "landcolor": "#E5ECF6",
           "showlakes": true,
           "showland": true,
           "subunitcolor": "white"
          },
          "hoverlabel": {
           "align": "left"
          },
          "hovermode": "closest",
          "mapbox": {
           "style": "light"
          },
          "paper_bgcolor": "white",
          "plot_bgcolor": "#E5ECF6",
          "polar": {
           "angularaxis": {
            "gridcolor": "white",
            "linecolor": "white",
            "ticks": ""
           },
           "bgcolor": "#E5ECF6",
           "radialaxis": {
            "gridcolor": "white",
            "linecolor": "white",
            "ticks": ""
           }
          },
          "scene": {
           "xaxis": {
            "backgroundcolor": "#E5ECF6",
            "gridcolor": "white",
            "gridwidth": 2,
            "linecolor": "white",
            "showbackground": true,
            "ticks": "",
            "zerolinecolor": "white"
           },
           "yaxis": {
            "backgroundcolor": "#E5ECF6",
            "gridcolor": "white",
            "gridwidth": 2,
            "linecolor": "white",
            "showbackground": true,
            "ticks": "",
            "zerolinecolor": "white"
           },
           "zaxis": {
            "backgroundcolor": "#E5ECF6",
            "gridcolor": "white",
            "gridwidth": 2,
            "linecolor": "white",
            "showbackground": true,
            "ticks": "",
            "zerolinecolor": "white"
           }
          },
          "shapedefaults": {
           "line": {
            "color": "#2a3f5f"
           }
          },
          "ternary": {
           "aaxis": {
            "gridcolor": "white",
            "linecolor": "white",
            "ticks": ""
           },
           "baxis": {
            "gridcolor": "white",
            "linecolor": "white",
            "ticks": ""
           },
           "bgcolor": "#E5ECF6",
           "caxis": {
            "gridcolor": "white",
            "linecolor": "white",
            "ticks": ""
           }
          },
          "title": {
           "x": 0.05
          },
          "xaxis": {
           "automargin": true,
           "gridcolor": "white",
           "linecolor": "white",
           "ticks": "",
           "title": {
            "standoff": 15
           },
           "zerolinecolor": "white",
           "zerolinewidth": 2
          },
          "yaxis": {
           "automargin": true,
           "gridcolor": "white",
           "linecolor": "white",
           "ticks": "",
           "title": {
            "standoff": 15
           },
           "zerolinecolor": "white",
           "zerolinewidth": 2
          }
         }
        },
        "width": 1000,
        "xaxis": {
         "anchor": "y",
         "domain": [
          0,
          1
         ],
         "range": [
          -1.1,
          1.1
         ],
         "showticklabels": false,
         "title": {
          "text": "x"
         },
         "visible": false
        },
        "yaxis": {
         "anchor": "x",
         "domain": [
          0,
          1
         ],
         "range": [
          0,
          1.1
         ],
         "showticklabels": false,
         "title": {
          "text": "y"
         },
         "visible": false
        }
       }
      },
      "text/html": [
       "<div>                            <div id=\"73dca04d-c5cb-4d38-8249-12cfc81a546e\" class=\"plotly-graph-div\" style=\"height:500px; width:1000px;\"></div>            <script type=\"text/javascript\">                require([\"plotly\"], function(Plotly) {                    window.PLOTLYENV=window.PLOTLYENV || {};                                    if (document.getElementById(\"73dca04d-c5cb-4d38-8249-12cfc81a546e\")) {                    Plotly.newPlot(                        \"73dca04d-c5cb-4d38-8249-12cfc81a546e\",                        [{\"customdata\": [[-0.03721557866747234, 0.1415020570929081, -0.2571795946298906, \"net profit / total assets \"], [0.01718915359375133, 0.4246082892740313, 0.04046028600168393, \"total liabilities / total assets \"], [0.006326237868690274, 0.04585424592498977, 0.13709858166190025, \"working capital / total assets \"], [0.007712071329860549, 0.17123242410583567, 0.04500819936032967, \"current assets / short-term liabilities \"], [-0.006405186947397219, 0.1676954572950168, -0.03817679360063453, \"[(cash + short-term securities + receivables - short-term liabilities) / (operating expenses - depreciation)] * 365 \"], [0.2275387791155072, 0.6619535467583643, 0.3310856026472824, \"retained earnings / total assets \"], [0.0004954233315050362, 0.0601645214853789, 0.008234290277261233, \"EBIT / total assets \"], [-0.02765978602829501, 0.2374595363002399, -0.1159595371594716, \"book value of equity / total liabilities \"], [0.10302733743364274, 0.3437348181412265, 0.2912082698771298, \"sales / total assets \"], [-0.022007931472482103, 0.2523189185644157, -0.08700249020459913, \"equity / total assets \"], [0.04096792201064919, 0.0912547332706487, 0.4219722808307184, \"(gross profit + extraordinary items + financial expenses) / total assets \"], [-0.06296854204842019, 0.32664508204334364, -0.1904375222286172, \"gross profit / short-term liabilities \"], [-0.19220135802643573, 0.5421391166660717, -0.34069945894450737, \"(gross profit + depreciation) / sales \"], [0.0010457660868374687, 0.06144014069073496, 0.017019250000379894, \"(gross profit + interest) / total assets \"], [-0.012131822735903859, 0.12256673645830495, -0.09866000045078684, \"(total liabilities * 365) / (gross profit + depreciation) \"], [-0.28755706686252386, 0.7243248140652636, -0.3779176358041527, \"(gross profit + depreciation) / total liabilities \"], [-0.020553766370008303, 0.4461770514468975, -0.04603384610159891, \"total assets / total liabilities \"], [-0.00955713325731248, 0.07800257932452732, -0.12191565674328354, \"gross profit / total assets \"], [-0.04937131035910345, 0.1316944815963603, -0.3586766661461123, \"gross profit / sales \"], [0.008286263356518107, 0.04147016113028263, 0.19721542223508826, \"(inventory * 365) / sales \"], [-0.0016813253891170446, 0.05640030025956825, -0.029801749259193464, \"sales (n) / sales (n-1) \"], [-0.0036246772347278203, 0.06703463853441688, -0.05401910040444585, \"profit on operating activities / total assets \"], [-0.044925874880263415, 0.19783135393223136, -0.2233045373003284, \"net profit / sales \"], [0.006755588927197857, 0.09558563379805113, 0.0705584515976471, \"gross profit (in 3 years) / total assets \"], [0.06279005956849855, 0.6792004175096061, 0.092185004932526, \"(equity - share capital) / total assets \"], [-0.32673727389460777, 0.865802215613352, -0.3608564541439868, \"(net profit + depreciation) / total liabilities \"], [0.09888149873849256, 0.3880075294468169, 0.2495327612715739, \"profit on operating activities / financial expenses \"], [0.0129032138297422, 0.0478728755166433, 0.2632744516202611, \"working capital / fixed assets \"], [0.08791922464666051, 0.19626673580642592, 0.4211543738165612, \"logarithm of total assets \"], [-0.025051082746446483, 0.07597204889215403, -0.31851378022934923, \"(total liabilities - cash) / sales \"], [-0.013164207278760384, 0.0655476840018133, -0.1981974085642141, \"(gross profit + interest) / sales \"], [-0.017044297119337068, 0.10068320357648397, -0.16769651968902058, \"(current liabilities * 365) / cost of products sold \"], [-0.013997297176469687, 0.07343068287765342, -0.18835949314409312, \"operating expenses / short-term liabilities \"], [0.4604580343817922, 0.8876814736003317, 0.4785111190768855, \"operating expenses / total liabilities \"], [-0.00950515440505238, 0.27172565925678743, -0.03496644476789205, \"profit on sales / total assets \"], [-0.015512521894531069, 0.060067272691610864, -0.25273049152995825, \"total sales / total assets \"], [0.006145871439130494, 0.04276229875127936, 0.14274424459349008, \"(current assets - inventories) / long-term liabilities \"], [0.04476936512312717, 0.2324788591208347, 0.19024500796883434, \"constant capital / total assets \"], [-0.05926676231119124, 0.3725409612313568, -0.15776581096455314, \"profit on sales / sales \"], [0.0029996303501152364, 0.04271628742659147, 0.07010708378240693, \"(current assets - inventory - receivables) / short-term liabilities \"], [0.0130030028157958, 0.1319050298975539, 0.09826105078428288, \"total liabilities / ((profit on operating activities + depreciation) * (12/365)) \"], [-0.029163862483773038, 0.07849270143584712, -0.3557414597003479, \"profit on operating activities / sales \"], [0.004937321246335707, 0.06060171877211424, 0.08129209226025165, \"rotation receivables + inventory turnover in days \"], [0.0014264441463200561, 0.06406555302188126, 0.022261705870185663, \"(receivables * 365) / sales \"], [-0.01168456708629146, 0.08639677764984198, -0.13442745822273722, \"net profit / inventory \"], [0.03735722141281421, 0.4225755917330741, 0.08817441860041485, \"(current assets - inventory) / short-term liabilities \"], [0.006999265794273788, 0.04628483266198727, 0.15008443793417442, \"(inventory * 365) / cost of products sold \"], [0.016424800559589784, 0.043079130667717375, 0.3642567071814207, \"EBITDA (profit on operating activities - depreciation) / total assets \"], [-0.0004690970139539087, 0.03918550536656228, -0.011970615227101631, \"EBITDA (profit on operating activities - depreciation) / sales \"], [-0.011277566711826349, 0.06894545627806213, -0.16213643781309986, \"current assets / total liabilities \"], [0.034681352885287516, 0.18472269576636352, 0.18558770588776854, \"short-term liabilities / total assets \"], [-0.019378091416691848, 0.06090326078032785, -0.3080495182415915, \"(short-term liabilities * 365) / cost of products sold) \"], [0.0090843382301097, 0.0498002940619016, 0.18043150086379275, \"equity / fixed assets \"], [0.006910678595703239, 0.0678514119964578, 0.10150017734917828, \"constant capital / fixed assets \"], [0.013032748210611109, 0.11872710468834037, 0.1093328860914626, \"working capital \"], [0.00453682510413119, 0.08310723356098923, 0.05453588413350508, \"(sales - cost of products sold) / sales \"], [-0.002869749581731357, 0.05965685792541175, -0.04806721634921675, \"(current assets - inventory - short-term liabilities) / (sales - gross profit - depreciation) \"], [0.015381587623394834, 0.09267399801576726, 0.16447584750690306, \"total costs /total sales \"], [0.012714487102532179, 0.06869825546993867, 0.1830064996343048, \"long-term liabilities / equity \"], [0.015298283636191675, 0.044274757500753784, 0.3326876381948334, \"sales / inventory \"], [0.0015957554849258607, 0.06723261792546176, 0.02373038538456741, \"sales / receivables \"], [-0.02068211245451035, 0.10769342964559954, -0.1897360958766808, \"(short-term liabilities *365) / sales \"], [-0.017390236720986597, 0.11155810842017663, -0.15464042952557158, \"sales / short-term liabilities \"], [-0.013200938269831292, 0.058052753357090335, -0.22359339626196864, \"sales / fixed assets\"], [0.0, 0.0, -0.4785111190768855, \"origin\"], [0.0, 0.0, 0.4785111190768855, \"\"]], \"hovertemplate\": \"<b>%{hovertext}</b><br><br><extra></extra>\", \"hovertext\": [\"net profit / total assets \", \"total liabilities / total assets \", \"working capital / total assets \", \"current assets / short-term liabilities \", \"[(cash + short-term securities + receivables - short-term liabilities) / (operating expenses - depreciation)] * 365 \", \"retained earnings / total assets \", \"EBIT / total assets \", \"book value of equity / total liabilities \", \"sales / total assets \", \"equity / total assets \", \"(gross profit + extraordinary items + financial expenses) / total assets \", \"gross profit / short-term liabilities \", \"(gross profit + depreciation) / sales \", \"(gross profit + interest) / total assets \", \"(total liabilities * 365) / (gross profit + depreciation) \", \"(gross profit + depreciation) / total liabilities \", \"total assets / total liabilities \", \"gross profit / total assets \", \"gross profit / sales \", \"(inventory * 365) / sales \", \"sales (n) / sales (n-1) \", \"profit on operating activities / total assets \", \"net profit / sales \", \"gross profit (in 3 years) / total assets \", \"(equity - share capital) / total assets \", \"(net profit + depreciation) / total liabilities \", \"profit on operating activities / financial expenses \", \"working capital / fixed assets \", \"logarithm of total assets \", \"(total liabilities - cash) / sales \", \"(gross profit + interest) / sales \", \"(current liabilities * 365) / cost of products sold \", \"operating expenses / short-term liabilities \", \"operating expenses / total liabilities \", \"profit on sales / total assets \", \"total sales / total assets \", \"(current assets - inventories) / long-term liabilities \", \"constant capital / total assets \", \"profit on sales / sales \", \"(current assets - inventory - receivables) / short-term liabilities \", \"total liabilities / ((profit on operating activities + depreciation) * (12/365)) \", \"profit on operating activities / sales \", \"rotation receivables + inventory turnover in days \", \"(receivables * 365) / sales \", \"net profit / inventory \", \"(current assets - inventory) / short-term liabilities \", \"(inventory * 365) / cost of products sold \", \"EBITDA (profit on operating activities - depreciation) / total assets \", \"EBITDA (profit on operating activities - depreciation) / sales \", \"current assets / total liabilities \", \"short-term liabilities / total assets \", \"(short-term liabilities * 365) / cost of products sold) \", \"equity / fixed assets \", \"constant capital / fixed assets \", \"working capital \", \"(sales - cost of products sold) / sales \", \"(current assets - inventory - short-term liabilities) / (sales - gross profit - depreciation) \", \"total costs /total sales \", \"long-term liabilities / equity \", \"sales / inventory \", \"sales / receivables \", \"(short-term liabilities *365) / sales \", \"sales / short-term liabilities \", \"sales / fixed assets\", \"origin\", \"\"], \"legendgroup\": \"\", \"marker\": {\"color\": [-0.2571795946298906, 0.04046028600168393, 0.13709858166190025, 0.04500819936032967, -0.03817679360063453, 0.3310856026472824, 0.008234290277261233, -0.1159595371594716, 0.2912082698771298, -0.08700249020459913, 0.4219722808307184, -0.1904375222286172, -0.34069945894450737, 0.017019250000379894, -0.09866000045078684, -0.3779176358041527, -0.04603384610159891, -0.12191565674328354, -0.3586766661461123, 0.19721542223508826, -0.029801749259193464, -0.05401910040444585, -0.2233045373003284, 0.0705584515976471, 0.092185004932526, -0.3608564541439868, 0.2495327612715739, 0.2632744516202611, 0.4211543738165612, -0.31851378022934923, -0.1981974085642141, -0.16769651968902058, -0.18835949314409312, 0.4785111190768855, -0.03496644476789205, -0.25273049152995825, 0.14274424459349008, 0.19024500796883434, -0.15776581096455314, 0.07010708378240693, 0.09826105078428288, -0.3557414597003479, 0.08129209226025165, 0.022261705870185663, -0.13442745822273722, 0.08817441860041485, 0.15008443793417442, 0.3642567071814207, -0.011970615227101631, -0.16213643781309986, 0.18558770588776854, -0.3080495182415915, 0.18043150086379275, 0.10150017734917828, 0.1093328860914626, 0.05453588413350508, -0.04806721634921675, 0.16447584750690306, 0.1830064996343048, 0.3326876381948334, 0.02373038538456741, -0.1897360958766808, -0.15464042952557158, -0.22359339626196864, -0.4785111190768855, 0.4785111190768855], \"coloraxis\": \"coloraxis\", \"size\": 10, \"symbol\": \"circle\"}, \"mode\": \"markers\", \"name\": \"\", \"orientation\": \"v\", \"showlegend\": false, \"textfont\": {\"size\": 15}, \"type\": \"scatter\", \"x\": [-0.03721557866747234, 0.01718915359375133, 0.006326237868690274, 0.007712071329860549, -0.006405186947397219, 0.2275387791155072, 0.0004954233315050362, -0.02765978602829501, 0.10302733743364274, -0.022007931472482103, 0.04096792201064919, -0.06296854204842019, -0.19220135802643573, 0.0010457660868374687, -0.012131822735903859, -0.28755706686252386, -0.020553766370008303, -0.00955713325731248, -0.04937131035910345, 0.008286263356518107, -0.0016813253891170446, -0.0036246772347278203, -0.044925874880263415, 0.006755588927197857, 0.06279005956849855, -0.32673727389460777, 0.09888149873849256, 0.0129032138297422, 0.08791922464666051, -0.025051082746446483, -0.013164207278760384, -0.017044297119337068, -0.013997297176469687, 0.4604580343817922, -0.00950515440505238, -0.015512521894531069, 0.006145871439130494, 0.04476936512312717, -0.05926676231119124, 0.0029996303501152364, 0.0130030028157958, -0.029163862483773038, 0.004937321246335707, 0.0014264441463200561, -0.01168456708629146, 0.03735722141281421, 0.006999265794273788, 0.016424800559589784, -0.0004690970139539087, -0.011277566711826349, 0.034681352885287516, -0.019378091416691848, 0.0090843382301097, 0.006910678595703239, 0.013032748210611109, 0.00453682510413119, -0.002869749581731357, 0.015381587623394834, 0.012714487102532179, 0.015298283636191675, 0.0015957554849258607, -0.02068211245451035, -0.017390236720986597, -0.013200938269831292, 0.0, 0.0], \"xaxis\": \"x\", \"y\": [0.1415020570929081, 0.4246082892740313, 0.04585424592498977, 0.17123242410583567, 0.1676954572950168, 0.6619535467583643, 0.0601645214853789, 0.2374595363002399, 0.3437348181412265, 0.2523189185644157, 0.0912547332706487, 0.32664508204334364, 0.5421391166660717, 0.06144014069073496, 0.12256673645830495, 0.7243248140652636, 0.4461770514468975, 0.07800257932452732, 0.1316944815963603, 0.04147016113028263, 0.05640030025956825, 0.06703463853441688, 0.19783135393223136, 0.09558563379805113, 0.6792004175096061, 0.865802215613352, 0.3880075294468169, 0.0478728755166433, 0.19626673580642592, 0.07597204889215403, 0.0655476840018133, 0.10068320357648397, 0.07343068287765342, 0.8876814736003317, 0.27172565925678743, 0.060067272691610864, 0.04276229875127936, 0.2324788591208347, 0.3725409612313568, 0.04271628742659147, 0.1319050298975539, 0.07849270143584712, 0.06060171877211424, 0.06406555302188126, 0.08639677764984198, 0.4225755917330741, 0.04628483266198727, 0.043079130667717375, 0.03918550536656228, 0.06894545627806213, 0.18472269576636352, 0.06090326078032785, 0.0498002940619016, 0.0678514119964578, 0.11872710468834037, 0.08310723356098923, 0.05965685792541175, 0.09267399801576726, 0.06869825546993867, 0.044274757500753784, 0.06723261792546176, 0.10769342964559954, 0.11155810842017663, 0.058052753357090335, 0.0, 0.0], \"yaxis\": \"y\"}],                        {\"coloraxis\": {\"colorbar\": {\"title\": {\"text\": \"angles\"}}, \"colorscale\": [[0.0, \"rgb(150,0,90)\"], [0.125, \"rgb(0,0,200)\"], [0.25, \"rgb(0,25,255)\"], [0.375, \"rgb(0,152,255)\"], [0.5, \"rgb(44,255,150)\"], [0.625, \"rgb(151,255,0)\"], [0.75, \"rgb(255,234,0)\"], [0.875, \"rgb(255,111,0)\"], [1.0, \"rgb(255,0,0)\"]], \"showscale\": false}, \"height\": 500, \"legend\": {\"tracegroupgap\": 0}, \"margin\": {\"t\": 60}, \"shapes\": [{\"line\": {\"color\": \"red\", \"dash\": \"dot\", \"width\": 3}, \"opacity\": 0.5, \"type\": \"circle\", \"x0\": 0.11000000000000001, \"x1\": -0.11000000000000001, \"y0\": 0.11000000000000001, \"y1\": -0.11000000000000001}, {\"line\": {\"color\": \"red\", \"dash\": \"dot\", \"width\": 3}, \"opacity\": 0.5, \"type\": \"circle\", \"x0\": 0.22000000000000003, \"x1\": -0.22000000000000003, \"y0\": 0.22000000000000003, \"y1\": -0.22000000000000003}, {\"line\": {\"color\": \"red\", \"dash\": \"dot\", \"width\": 3}, \"opacity\": 0.5, \"type\": \"circle\", \"x0\": 0.33, \"x1\": -0.33, \"y0\": 0.33, \"y1\": -0.33}, {\"line\": {\"color\": \"red\", \"dash\": \"dot\", \"width\": 3}, \"opacity\": 0.5, \"type\": \"circle\", \"x0\": 0.44000000000000006, \"x1\": -0.44000000000000006, \"y0\": 0.44000000000000006, \"y1\": -0.44000000000000006}, {\"line\": {\"color\": \"red\", \"dash\": \"dot\", \"width\": 3}, \"opacity\": 0.5, \"type\": \"circle\", \"x0\": 0.55, \"x1\": -0.55, \"y0\": 0.55, \"y1\": -0.55}, {\"line\": {\"color\": \"red\", \"dash\": \"dot\", \"width\": 3}, \"opacity\": 0.5, \"type\": \"circle\", \"x0\": 0.66, \"x1\": -0.66, \"y0\": 0.66, \"y1\": -0.66}, {\"line\": {\"color\": \"red\", \"dash\": \"dot\", \"width\": 3}, \"opacity\": 0.5, \"type\": \"circle\", \"x0\": 0.77, \"x1\": -0.77, \"y0\": 0.77, \"y1\": -0.77}, {\"line\": {\"color\": \"red\", \"dash\": \"dot\", \"width\": 3}, \"opacity\": 0.5, \"type\": \"circle\", \"x0\": 0.8800000000000001, \"x1\": -0.8800000000000001, \"y0\": 0.8800000000000001, \"y1\": -0.8800000000000001}, {\"line\": {\"color\": \"red\", \"dash\": \"dot\", \"width\": 3}, \"opacity\": 0.5, \"type\": \"circle\", \"x0\": 0.9900000000000001, \"x1\": -0.9900000000000001, \"y0\": 0.9900000000000001, \"y1\": -0.9900000000000001}, {\"line\": {\"color\": \"red\", \"dash\": \"dot\", \"width\": 3}, \"opacity\": 0.5, \"type\": \"circle\", \"x0\": 1.1, \"x1\": -1.1, \"y0\": 1.1, \"y1\": -1.1}, {\"line\": {\"color\": \"gray\", \"dash\": \"solid\", \"width\": 1}, \"opacity\": 0.5, \"type\": \"circle\", \"x0\": 0.046499650885779224, \"x1\": -0.12093080822072388, \"y0\": 0.1647483385421469, \"y1\": 0.11825577564366932}, {\"line\": {\"color\": \"gray\", \"dash\": \"solid\", \"width\": 1}, \"opacity\": 0.5, \"type\": \"circle\", \"x0\": 0.06756725601027197, \"x1\": -0.033188948822769314, \"y0\": 0.42612707027173524, \"y1\": 0.42308950827632763}, {\"line\": {\"color\": \"gray\", \"dash\": \"solid\", \"width\": 1}, \"opacity\": 0.5, \"type\": \"circle\", \"x0\": 0.15878048265506728, \"x1\": -0.14612800691768674, \"y0\": 0.07326839135008871, \"y1\": 0.018440100499890824}, {\"line\": {\"color\": \"gray\", \"dash\": \"solid\", \"width\": 1}, \"opacity\": 0.5, \"type\": \"circle\", \"x0\": 0.06969406435337114, \"x1\": -0.05426992169365003, \"y0\": 0.17399233874732106, \"y1\": 0.16847250946435027}, {\"line\": {\"color\": \"gray\", \"dash\": \"solid\", \"width\": 1}, \"opacity\": 0.5, \"type\": \"circle\", \"x0\": 0.06085331636855588, \"x1\": -0.07366369026335032, \"y0\": 0.16970584974098046, \"y1\": 0.16568506484905315}, {\"line\": {\"color\": \"gray\", \"dash\": \"solid\", \"width\": 1}, \"opacity\": 0.5, \"type\": \"circle\", \"x0\": 0.2628733781449263, \"x1\": 0.19220418008608808, \"y0\": 0.6743679795779352, \"y1\": 0.6495391139387934}, {\"line\": {\"color\": \"gray\", \"dash\": \"solid\", \"width\": 1}, \"opacity\": 0.5, \"type\": \"circle\", \"x0\": 0.13781179777007924, \"x1\": -0.13682095110706916, \"y0\": 0.06527591851195491, \"y1\": 0.05505312445880288}, {\"line\": {\"color\": \"gray\", \"dash\": \"solid\", \"width\": 1}, \"opacity\": 0.5, \"type\": \"circle\", \"x0\": 0.052906006459162186, \"x1\": -0.10822557851575221, \"y0\": 0.24849955772721555, \"y1\": 0.22641951487326428}, {\"line\": {\"color\": \"gray\", \"dash\": \"solid\", \"width\": 1}, \"opacity\": 0.5, \"type\": \"circle\", \"x0\": 0.14748802162950353, \"x1\": 0.058566653237781964, \"y0\": 0.35726769683152293, \"y1\": 0.33020193945093}, {\"line\": {\"color\": \"gray\", \"dash\": \"solid\", \"width\": 1}, \"opacity\": 0.5, \"type\": \"circle\", \"x0\": 0.058526089976076584, \"x1\": -0.10254195292104079, \"y0\": 0.2580228112579156, \"y1\": 0.24661502587091588}, {\"line\": {\"color\": \"gray\", \"dash\": \"solid\", \"width\": 1}, \"opacity\": 0.5, \"type\": \"circle\", \"x0\": 0.132156177025114, \"x1\": -0.05022033300381563, \"y0\": 0.13031170311398016, \"y1\": 0.05219776342731726}, {\"line\": {\"color\": \"gray\", \"dash\": \"solid\", \"width\": 1}, \"opacity\": 0.5, \"type\": \"circle\", \"x0\": -0.041432061778854376, \"x1\": -0.084505022317986, \"y0\": 0.33096082511702024, \"y1\": 0.32232933896966703}, {\"line\": {\"color\": \"gray\", \"dash\": \"solid\", \"width\": 1}, \"opacity\": 0.5, \"type\": \"circle\", \"x0\": -0.1554351785242042, \"x1\": -0.22896753752866728, \"y0\": 0.5555554685161124, \"y1\": 0.5287227648160311}, {\"line\": {\"color\": \"gray\", \"dash\": \"solid\", \"width\": 1}, \"opacity\": 0.5, \"type\": \"circle\", \"x0\": 0.08457225778293295, \"x1\": -0.08248072560925801, \"y0\": 0.06609676132239863, \"y1\": 0.0567835200590713}, {\"line\": {\"color\": \"gray\", \"dash\": \"solid\", \"width\": 1}, \"opacity\": 0.5, \"type\": \"circle\", \"x0\": 0.04473854745179364, \"x1\": -0.06900219292360137, \"y0\": 0.12840158445501101, \"y1\": 0.11673188846159886}, {\"line\": {\"color\": \"gray\", \"dash\": \"solid\", \"width\": 1}, \"opacity\": 0.5, \"type\": \"circle\", \"x0\": -0.24605690105409195, \"x1\": -0.32905723267095577, \"y0\": 0.7410779639251773, \"y1\": 0.7075716642053499}, {\"line\": {\"color\": \"gray\", \"dash\": \"solid\", \"width\": 1}, \"opacity\": 0.5, \"type\": \"circle\", \"x0\": 0.035509766751403174, \"x1\": -0.07661729949141978, \"y0\": 0.4488043264867553, \"y1\": 0.44354977640703963}, {\"line\": {\"color\": \"gray\", \"dash\": \"solid\", \"width\": 1}, \"opacity\": 0.5, \"type\": \"circle\", \"x0\": 0.04391417068145125, \"x1\": -0.0630284371960762, \"y0\": 0.08458207958278033, \"y1\": 0.07142307906627432}, {\"line\": {\"color\": \"gray\", \"dash\": \"solid\", \"width\": 1}, \"opacity\": 0.5, \"type\": \"circle\", \"x0\": 0.029779080474769286, \"x1\": -0.12852170119297618, \"y0\": 0.1636853970093523, \"y1\": 0.09970356618336829}, {\"line\": {\"color\": \"gray\", \"dash\": \"solid\", \"width\": 1}, \"opacity\": 0.5, \"type\": \"circle\", \"x0\": 0.10793322889632145, \"x1\": -0.09136070218328524, \"y0\": 0.06078251909036435, \"y1\": 0.022157803170200916}, {\"line\": {\"color\": \"gray\", \"dash\": \"solid\", \"width\": 1}, \"opacity\": 0.5, \"type\": \"circle\", \"x0\": 0.07058703989240685, \"x1\": -0.07394969067064093, \"y0\": 0.05716028829501808, \"y1\": 0.055640312224118416}, {\"line\": {\"color\": \"gray\", \"dash\": \"solid\", \"width\": 1}, \"opacity\": 0.5, \"type\": \"circle\", \"x0\": 0.09702157675487619, \"x1\": -0.10427093122433181, \"y0\": 0.06927537947735354, \"y1\": 0.06479389759148019}, {\"line\": {\"color\": \"gray\", \"dash\": \"solid\", \"width\": 1}, \"opacity\": 0.5, \"type\": \"circle\", \"x0\": -0.0004900777887314328, \"x1\": -0.08936167197179538, \"y0\": 0.20836993170327275, \"y1\": 0.18729277616118997}, {\"line\": {\"color\": \"gray\", \"dash\": \"solid\", \"width\": 1}, \"opacity\": 0.5, \"type\": \"circle\", \"x0\": 0.09387324434091442, \"x1\": -0.08036206648651871, \"y0\": 0.10075846665018062, \"y1\": 0.0904128009459216}, {\"line\": {\"color\": \"gray\", \"dash\": \"solid\", \"width\": 1}, \"opacity\": 0.5, \"type\": \"circle\", \"x0\": 0.1400737880255397, \"x1\": -0.014493668888542602, \"y0\": 0.6867291528953042, \"y1\": 0.671671682123908}, {\"line\": {\"color\": \"gray\", \"dash\": \"solid\", \"width\": 1}, \"opacity\": 0.5, \"type\": \"circle\", \"x0\": -0.2914125412660636, \"x1\": -0.36206200652315196, \"y0\": 0.8797561313537684, \"y1\": 0.8518482998729356}, {\"line\": {\"color\": \"gray\", \"dash\": \"solid\", \"width\": 1}, \"opacity\": 0.5, \"type\": \"circle\", \"x0\": 0.1620229065823084, \"x1\": 0.03574009089467674, \"y0\": 0.40447919218387013, \"y1\": 0.37153586670976374}, {\"line\": {\"color\": \"gray\", \"dash\": \"solid\", \"width\": 1}, \"opacity\": 0.5, \"type\": \"circle\", \"x0\": 0.18717546909850521, \"x1\": -0.16136904143902084, \"y0\": 0.08971396107171269, \"y1\": 0.0060317899615739135}, {\"line\": {\"color\": \"gray\", \"dash\": \"solid\", \"width\": 1}, \"opacity\": 0.5, \"type\": \"circle\", \"x0\": 0.10642514270380772, \"x1\": 0.0694133065895133, \"y0\": 0.20461710951013887, \"y1\": 0.18791636210271298}, {\"line\": {\"color\": \"gray\", \"dash\": \"solid\", \"width\": 1}, \"opacity\": 0.5, \"type\": \"circle\", \"x0\": 0.035186445354001984, \"x1\": -0.08528861084689496, \"y0\": 0.09648204095894652, \"y1\": 0.05546205682536153}, {\"line\": {\"color\": \"gray\", \"dash\": \"solid\", \"width\": 1}, \"opacity\": 0.5, \"type\": \"circle\", \"x0\": 0.17883748738889574, \"x1\": -0.2051659019464165, \"y0\": 0.1081746905395031, \"y1\": 0.022920677464123483}, {\"line\": {\"color\": \"gray\", \"dash\": \"solid\", \"width\": 1}, \"opacity\": 0.5, \"type\": \"circle\", \"x0\": 0.08374467692033294, \"x1\": -0.11783327115900707, \"y0\": 0.1199717035039593, \"y1\": 0.08139470364900867}, {\"line\": {\"color\": \"gray\", \"dash\": \"solid\", \"width\": 1}, \"opacity\": 0.5, \"type\": \"circle\", \"x0\": 0.0847763014892057, \"x1\": -0.11277089584214509, \"y0\": 0.0921368465278055, \"y1\": 0.054724519227501336}, {\"line\": {\"color\": \"gray\", \"dash\": \"solid\", \"width\": 1}, \"opacity\": 0.5, \"type\": \"circle\", \"x0\": 0.49436005622942947, \"x1\": 0.42655601253415487, \"y0\": 0.9053734425843354, \"y1\": 0.869989504616328}, {\"line\": {\"color\": \"gray\", \"dash\": \"solid\", \"width\": 1}, \"opacity\": 0.5, \"type\": \"circle\", \"x0\": 0.05334732478255287, \"x1\": -0.07235763359265764, \"y0\": 0.27461798579114305, \"y1\": 0.2688333327224318}, {\"line\": {\"color\": \"gray\", \"dash\": \"solid\", \"width\": 1}, \"opacity\": 0.5, \"type\": \"circle\", \"x0\": 0.09154729498350989, \"x1\": -0.12257233877257201, \"y0\": 0.08928416583784454, \"y1\": 0.030850379545377192}, {\"line\": {\"color\": \"gray\", \"dash\": \"solid\", \"width\": 1}, \"opacity\": 0.5, \"type\": \"circle\", \"x0\": 0.08397769460710505, \"x1\": -0.07168595172884407, \"y0\": 0.055244550797971484, \"y1\": 0.030280046704587244}, {\"line\": {\"color\": \"gray\", \"dash\": \"solid\", \"width\": 1}, \"opacity\": 0.5, \"type\": \"circle\", \"x0\": 0.12657697142077817, \"x1\": -0.03703824117452382, \"y0\": 0.24845407351505064, \"y1\": 0.2165036447266188}, {\"line\": {\"color\": \"gray\", \"dash\": \"solid\", \"width\": 1}, \"opacity\": 0.5, \"type\": \"circle\", \"x0\": -0.01633716666121527, \"x1\": -0.10219635796116722, \"y0\": 0.3797720837681474, \"y1\": 0.36530983869456624}, {\"line\": {\"color\": \"gray\", \"dash\": \"solid\", \"width\": 1}, \"opacity\": 0.5, \"type\": \"circle\", \"x0\": 0.0853356995062414, \"x1\": -0.07933643880601093, \"y0\": 0.05055565313198969, \"y1\": 0.03487692172119325}, {\"line\": {\"color\": \"gray\", \"dash\": \"solid\", \"width\": 1}, \"opacity\": 0.5, \"type\": \"circle\", \"x0\": 0.08897175303604474, \"x1\": -0.06296574740445315, \"y0\": 0.13976429521611045, \"y1\": 0.12404576457899734}, {\"line\": {\"color\": \"gray\", \"dash\": \"solid\", \"width\": 1}, \"opacity\": 0.5, \"type\": \"circle\", \"x0\": 0.12036431669170175, \"x1\": -0.17869204165924782, \"y0\": 0.1281580665444574, \"y1\": 0.02882733632723683}, {\"line\": {\"color\": \"gray\", \"dash\": \"solid\", \"width\": 1}, \"opacity\": 0.5, \"type\": \"circle\", \"x0\": 0.16457336663401395, \"x1\": -0.15469872414134256, \"y0\": 0.07254166982112441, \"y1\": 0.048661767723104044}, {\"line\": {\"color\": \"gray\", \"dash\": \"solid\", \"width\": 1}, \"opacity\": 0.5, \"type\": \"circle\", \"x0\": 0.0924210212057051, \"x1\": -0.089568132913065, \"y0\": 0.06527261007882257, \"y1\": 0.06285849596493995}, {\"line\": {\"color\": \"gray\", \"dash\": \"solid\", \"width\": 1}, \"opacity\": 0.5, \"type\": \"circle\", \"x0\": 0.10278601021219028, \"x1\": -0.1261551443847732, \"y0\": 0.10026206589963228, \"y1\": 0.07253148940005168}, {\"line\": {\"color\": \"gray\", \"dash\": \"solid\", \"width\": 1}, \"opacity\": 0.5, \"type\": \"circle\", \"x0\": 0.09204604624165287, \"x1\": -0.017331603416024452, \"y0\": 0.42724388407076913, \"y1\": 0.41790729939537913}, {\"line\": {\"color\": \"gray\", \"dash\": \"solid\", \"width\": 1}, \"opacity\": 0.5, \"type\": \"circle\", \"x0\": 0.029552193308725525, \"x1\": -0.015553661720177952, \"y0\": 0.049565916701643835, \"y1\": 0.0430037486223307}, {\"line\": {\"color\": \"gray\", \"dash\": \"solid\", \"width\": 1}, \"opacity\": 0.5, \"type\": \"circle\", \"x0\": 0.05177771196568233, \"x1\": -0.018928110846502758, \"y0\": 0.056937307207784, \"y1\": 0.02922095412765075}, {\"line\": {\"color\": \"gray\", \"dash\": \"solid\", \"width\": 1}, \"opacity\": 0.5, \"type\": \"circle\", \"x0\": 0.13244389730949646, \"x1\": -0.13338209133740425, \"y0\": 0.045371634986821216, \"y1\": 0.032999375746303336}, {\"line\": {\"color\": \"gray\", \"dash\": \"solid\", \"width\": 1}, \"opacity\": 0.5, \"type\": \"circle\", \"x0\": 0.05135820733037308, \"x1\": -0.07391334075402578, \"y0\": 0.07713675350939195, \"y1\": 0.06075415904673229}, {\"line\": {\"color\": \"gray\", \"dash\": \"solid\", \"width\": 1}, \"opacity\": 0.5, \"type\": \"circle\", \"x0\": 0.07253039266173561, \"x1\": -0.0031676868911605927, \"y0\": 0.19158514558329343, \"y1\": 0.17786024594943362}, {\"line\": {\"color\": \"gray\", \"dash\": \"solid\", \"width\": 1}, \"opacity\": 0.5, \"type\": \"circle\", \"x0\": 0.04837125555566403, \"x1\": -0.08712743838904773, \"y0\": 0.08454028031920546, \"y1\": 0.03726624124145025}, {\"line\": {\"color\": \"gray\", \"dash\": \"solid\", \"width\": 1}, \"opacity\": 0.5, \"type\": \"circle\", \"x0\": 0.08801516074522867, \"x1\": -0.06984648428500925, \"y0\": 0.06623960487801236, \"y1\": 0.03336098324579085}, {\"line\": {\"color\": \"gray\", \"dash\": \"solid\", \"width\": 1}, \"opacity\": 0.5, \"type\": \"circle\", \"x0\": 0.04769993515620014, \"x1\": -0.03387857796479366, \"y0\": 0.0722847059869882, \"y1\": 0.0634181180059274}, {\"line\": {\"color\": \"gray\", \"dash\": \"solid\", \"width\": 1}, \"opacity\": 0.5, \"type\": \"circle\", \"x0\": 0.12512734230195022, \"x1\": -0.09906184588072799, \"y0\": 0.1318778150345355, \"y1\": 0.10557639434214527}, {\"line\": {\"color\": \"gray\", \"dash\": \"solid\", \"width\": 1}, \"opacity\": 0.5, \"type\": \"circle\", \"x0\": 0.14837858482561841, \"x1\": -0.13930493461735602, \"y0\": 0.09108855598559965, \"y1\": 0.07512591113637881}, {\"line\": {\"color\": \"gray\", \"dash\": \"solid\", \"width\": 1}, \"opacity\": 0.5, \"type\": \"circle\", \"x0\": 0.09179779703297536, \"x1\": -0.09753729619643808, \"y0\": 0.06370854728327034, \"y1\": 0.055605168567553154}, {\"line\": {\"color\": \"gray\", \"dash\": \"solid\", \"width\": 1}, \"opacity\": 0.5, \"type\": \"circle\", \"x0\": 0.1073512706538722, \"x1\": -0.07658809540708253, \"y0\": 0.10676657191305955, \"y1\": 0.07858142411847496}, {\"line\": {\"color\": \"gray\", \"dash\": \"solid\", \"width\": 1}, \"opacity\": 0.5, \"type\": \"circle\", \"x0\": 0.11521802428709707, \"x1\": -0.08978905008203272, \"y0\": 0.08867904058708698, \"y1\": 0.0487174703527904}, {\"line\": {\"color\": \"gray\", \"dash\": \"solid\", \"width\": 1}, \"opacity\": 0.5, \"type\": \"circle\", \"x0\": 0.08987509333133659, \"x1\": -0.05927852605895323, \"y0\": 0.07010199630764824, \"y1\": 0.018447518693859313}, {\"line\": {\"color\": \"gray\", \"dash\": \"solid\", \"width\": 1}, \"opacity\": 0.5, \"type\": \"circle\", \"x0\": 0.09956765339854001, \"x1\": -0.09637614242868828, \"y0\": 0.07146533483739421, \"y1\": 0.0629999010135293}, {\"line\": {\"color\": \"gray\", \"dash\": \"solid\", \"width\": 1}, \"opacity\": 0.5, \"type\": \"circle\", \"x0\": 0.04985003627684981, \"x1\": -0.0912142611858705, \"y0\": 0.1192135974942504, \"y1\": 0.09617326179694868}, {\"line\": {\"color\": \"gray\", \"dash\": \"solid\", \"width\": 1}, \"opacity\": 0.5, \"type\": \"circle\", \"x0\": 0.019971145651472785, \"x1\": -0.054751619093445975, \"y0\": 0.11815347540428126, \"y1\": 0.10496274143607204}, {\"line\": {\"color\": \"gray\", \"dash\": \"solid\", \"width\": 1}, \"opacity\": 0.5, \"type\": \"circle\", \"x0\": 0.02593254489092668, \"x1\": -0.052334421430589265, \"y0\": 0.0677877786469202, \"y1\": 0.048317728067260486}], \"showlegend\": false, \"template\": {\"data\": {\"bar\": [{\"error_x\": {\"color\": \"#2a3f5f\"}, \"error_y\": {\"color\": \"#2a3f5f\"}, \"marker\": {\"line\": {\"color\": \"#E5ECF6\", \"width\": 0.5}}, \"type\": \"bar\"}], \"barpolar\": [{\"marker\": {\"line\": {\"color\": \"#E5ECF6\", \"width\": 0.5}}, \"type\": \"barpolar\"}], \"carpet\": [{\"aaxis\": {\"endlinecolor\": \"#2a3f5f\", \"gridcolor\": \"white\", \"linecolor\": \"white\", \"minorgridcolor\": \"white\", \"startlinecolor\": \"#2a3f5f\"}, \"baxis\": {\"endlinecolor\": \"#2a3f5f\", \"gridcolor\": \"white\", \"linecolor\": \"white\", \"minorgridcolor\": \"white\", \"startlinecolor\": \"#2a3f5f\"}, \"type\": \"carpet\"}], \"choropleth\": [{\"colorbar\": {\"outlinewidth\": 0, \"ticks\": \"\"}, \"type\": \"choropleth\"}], \"contour\": [{\"colorbar\": {\"outlinewidth\": 0, \"ticks\": \"\"}, \"colorscale\": [[0.0, \"#0d0887\"], [0.1111111111111111, \"#46039f\"], [0.2222222222222222, \"#7201a8\"], [0.3333333333333333, \"#9c179e\"], [0.4444444444444444, \"#bd3786\"], [0.5555555555555556, \"#d8576b\"], [0.6666666666666666, \"#ed7953\"], [0.7777777777777778, \"#fb9f3a\"], [0.8888888888888888, \"#fdca26\"], [1.0, \"#f0f921\"]], \"type\": \"contour\"}], \"contourcarpet\": [{\"colorbar\": {\"outlinewidth\": 0, \"ticks\": \"\"}, \"type\": \"contourcarpet\"}], \"heatmap\": [{\"colorbar\": {\"outlinewidth\": 0, \"ticks\": \"\"}, \"colorscale\": [[0.0, \"#0d0887\"], [0.1111111111111111, \"#46039f\"], [0.2222222222222222, \"#7201a8\"], [0.3333333333333333, \"#9c179e\"], [0.4444444444444444, \"#bd3786\"], [0.5555555555555556, \"#d8576b\"], [0.6666666666666666, \"#ed7953\"], [0.7777777777777778, \"#fb9f3a\"], [0.8888888888888888, \"#fdca26\"], [1.0, \"#f0f921\"]], \"type\": \"heatmap\"}], \"heatmapgl\": [{\"colorbar\": {\"outlinewidth\": 0, \"ticks\": \"\"}, \"colorscale\": [[0.0, \"#0d0887\"], [0.1111111111111111, \"#46039f\"], [0.2222222222222222, \"#7201a8\"], [0.3333333333333333, \"#9c179e\"], [0.4444444444444444, \"#bd3786\"], [0.5555555555555556, \"#d8576b\"], [0.6666666666666666, \"#ed7953\"], [0.7777777777777778, \"#fb9f3a\"], [0.8888888888888888, \"#fdca26\"], [1.0, \"#f0f921\"]], \"type\": \"heatmapgl\"}], \"histogram\": [{\"marker\": {\"colorbar\": {\"outlinewidth\": 0, \"ticks\": \"\"}}, \"type\": \"histogram\"}], \"histogram2d\": [{\"colorbar\": {\"outlinewidth\": 0, \"ticks\": \"\"}, \"colorscale\": [[0.0, \"#0d0887\"], [0.1111111111111111, \"#46039f\"], [0.2222222222222222, \"#7201a8\"], [0.3333333333333333, \"#9c179e\"], [0.4444444444444444, \"#bd3786\"], [0.5555555555555556, \"#d8576b\"], [0.6666666666666666, \"#ed7953\"], [0.7777777777777778, \"#fb9f3a\"], [0.8888888888888888, \"#fdca26\"], [1.0, \"#f0f921\"]], \"type\": \"histogram2d\"}], \"histogram2dcontour\": [{\"colorbar\": {\"outlinewidth\": 0, \"ticks\": \"\"}, \"colorscale\": [[0.0, \"#0d0887\"], [0.1111111111111111, \"#46039f\"], [0.2222222222222222, \"#7201a8\"], [0.3333333333333333, \"#9c179e\"], [0.4444444444444444, \"#bd3786\"], [0.5555555555555556, \"#d8576b\"], [0.6666666666666666, \"#ed7953\"], [0.7777777777777778, \"#fb9f3a\"], [0.8888888888888888, \"#fdca26\"], [1.0, \"#f0f921\"]], \"type\": \"histogram2dcontour\"}], \"mesh3d\": [{\"colorbar\": {\"outlinewidth\": 0, \"ticks\": \"\"}, \"type\": \"mesh3d\"}], \"parcoords\": [{\"line\": {\"colorbar\": {\"outlinewidth\": 0, \"ticks\": \"\"}}, \"type\": \"parcoords\"}], \"pie\": [{\"automargin\": true, \"type\": \"pie\"}], \"scatter\": [{\"marker\": {\"colorbar\": {\"outlinewidth\": 0, \"ticks\": \"\"}}, \"type\": \"scatter\"}], \"scatter3d\": [{\"line\": {\"colorbar\": {\"outlinewidth\": 0, \"ticks\": \"\"}}, \"marker\": {\"colorbar\": {\"outlinewidth\": 0, \"ticks\": \"\"}}, \"type\": \"scatter3d\"}], \"scattercarpet\": [{\"marker\": {\"colorbar\": {\"outlinewidth\": 0, \"ticks\": \"\"}}, \"type\": \"scattercarpet\"}], \"scattergeo\": [{\"marker\": {\"colorbar\": {\"outlinewidth\": 0, \"ticks\": \"\"}}, \"type\": \"scattergeo\"}], \"scattergl\": [{\"marker\": {\"colorbar\": {\"outlinewidth\": 0, \"ticks\": \"\"}}, \"type\": \"scattergl\"}], \"scattermapbox\": [{\"marker\": {\"colorbar\": {\"outlinewidth\": 0, \"ticks\": \"\"}}, \"type\": \"scattermapbox\"}], \"scatterpolar\": [{\"marker\": {\"colorbar\": {\"outlinewidth\": 0, \"ticks\": \"\"}}, \"type\": \"scatterpolar\"}], \"scatterpolargl\": [{\"marker\": {\"colorbar\": {\"outlinewidth\": 0, \"ticks\": \"\"}}, \"type\": \"scatterpolargl\"}], \"scatterternary\": [{\"marker\": {\"colorbar\": {\"outlinewidth\": 0, \"ticks\": \"\"}}, \"type\": \"scatterternary\"}], \"surface\": [{\"colorbar\": {\"outlinewidth\": 0, \"ticks\": \"\"}, \"colorscale\": [[0.0, \"#0d0887\"], [0.1111111111111111, \"#46039f\"], [0.2222222222222222, \"#7201a8\"], [0.3333333333333333, \"#9c179e\"], [0.4444444444444444, \"#bd3786\"], [0.5555555555555556, \"#d8576b\"], [0.6666666666666666, \"#ed7953\"], [0.7777777777777778, \"#fb9f3a\"], [0.8888888888888888, \"#fdca26\"], [1.0, \"#f0f921\"]], \"type\": \"surface\"}], \"table\": [{\"cells\": {\"fill\": {\"color\": \"#EBF0F8\"}, \"line\": {\"color\": \"white\"}}, \"header\": {\"fill\": {\"color\": \"#C8D4E3\"}, \"line\": {\"color\": \"white\"}}, \"type\": \"table\"}]}, \"layout\": {\"annotationdefaults\": {\"arrowcolor\": \"#2a3f5f\", \"arrowhead\": 0, \"arrowwidth\": 1}, \"autotypenumbers\": \"strict\", \"coloraxis\": {\"colorbar\": {\"outlinewidth\": 0, \"ticks\": \"\"}}, \"colorscale\": {\"diverging\": [[0, \"#8e0152\"], [0.1, \"#c51b7d\"], [0.2, \"#de77ae\"], [0.3, \"#f1b6da\"], [0.4, \"#fde0ef\"], [0.5, \"#f7f7f7\"], [0.6, \"#e6f5d0\"], [0.7, \"#b8e186\"], [0.8, \"#7fbc41\"], [0.9, \"#4d9221\"], [1, \"#276419\"]], \"sequential\": [[0.0, \"#0d0887\"], [0.1111111111111111, \"#46039f\"], [0.2222222222222222, \"#7201a8\"], [0.3333333333333333, \"#9c179e\"], [0.4444444444444444, \"#bd3786\"], [0.5555555555555556, \"#d8576b\"], [0.6666666666666666, \"#ed7953\"], [0.7777777777777778, \"#fb9f3a\"], [0.8888888888888888, \"#fdca26\"], [1.0, \"#f0f921\"]], \"sequentialminus\": [[0.0, \"#0d0887\"], [0.1111111111111111, \"#46039f\"], [0.2222222222222222, \"#7201a8\"], [0.3333333333333333, \"#9c179e\"], [0.4444444444444444, \"#bd3786\"], [0.5555555555555556, \"#d8576b\"], [0.6666666666666666, \"#ed7953\"], [0.7777777777777778, \"#fb9f3a\"], [0.8888888888888888, \"#fdca26\"], [1.0, \"#f0f921\"]]}, \"colorway\": [\"#636efa\", \"#EF553B\", \"#00cc96\", \"#ab63fa\", \"#FFA15A\", \"#19d3f3\", \"#FF6692\", \"#B6E880\", \"#FF97FF\", \"#FECB52\"], \"font\": {\"color\": \"#2a3f5f\"}, \"geo\": {\"bgcolor\": \"white\", \"lakecolor\": \"white\", \"landcolor\": \"#E5ECF6\", \"showlakes\": true, \"showland\": true, \"subunitcolor\": \"white\"}, \"hoverlabel\": {\"align\": \"left\"}, \"hovermode\": \"closest\", \"mapbox\": {\"style\": \"light\"}, \"paper_bgcolor\": \"white\", \"plot_bgcolor\": \"#E5ECF6\", \"polar\": {\"angularaxis\": {\"gridcolor\": \"white\", \"linecolor\": \"white\", \"ticks\": \"\"}, \"bgcolor\": \"#E5ECF6\", \"radialaxis\": {\"gridcolor\": \"white\", \"linecolor\": \"white\", \"ticks\": \"\"}}, \"scene\": {\"xaxis\": {\"backgroundcolor\": \"#E5ECF6\", \"gridcolor\": \"white\", \"gridwidth\": 2, \"linecolor\": \"white\", \"showbackground\": true, \"ticks\": \"\", \"zerolinecolor\": \"white\"}, \"yaxis\": {\"backgroundcolor\": \"#E5ECF6\", \"gridcolor\": \"white\", \"gridwidth\": 2, \"linecolor\": \"white\", \"showbackground\": true, \"ticks\": \"\", \"zerolinecolor\": \"white\"}, \"zaxis\": {\"backgroundcolor\": \"#E5ECF6\", \"gridcolor\": \"white\", \"gridwidth\": 2, \"linecolor\": \"white\", \"showbackground\": true, \"ticks\": \"\", \"zerolinecolor\": \"white\"}}, \"shapedefaults\": {\"line\": {\"color\": \"#2a3f5f\"}}, \"ternary\": {\"aaxis\": {\"gridcolor\": \"white\", \"linecolor\": \"white\", \"ticks\": \"\"}, \"baxis\": {\"gridcolor\": \"white\", \"linecolor\": \"white\", \"ticks\": \"\"}, \"bgcolor\": \"#E5ECF6\", \"caxis\": {\"gridcolor\": \"white\", \"linecolor\": \"white\", \"ticks\": \"\"}}, \"title\": {\"x\": 0.05}, \"xaxis\": {\"automargin\": true, \"gridcolor\": \"white\", \"linecolor\": \"white\", \"ticks\": \"\", \"title\": {\"standoff\": 15}, \"zerolinecolor\": \"white\", \"zerolinewidth\": 2}, \"yaxis\": {\"automargin\": true, \"gridcolor\": \"white\", \"linecolor\": \"white\", \"ticks\": \"\", \"title\": {\"standoff\": 15}, \"zerolinecolor\": \"white\", \"zerolinewidth\": 2}}}, \"width\": 1000, \"xaxis\": {\"anchor\": \"y\", \"domain\": [0.0, 1.0], \"range\": [-1.1, 1.1], \"showticklabels\": false, \"title\": {\"text\": \"x\"}, \"visible\": false}, \"yaxis\": {\"anchor\": \"x\", \"domain\": [0.0, 1.0], \"range\": [0, 1.1], \"showticklabels\": false, \"title\": {\"text\": \"y\"}, \"visible\": false}},                        {\"responsive\": true}                    ).then(function(){\n",
       "                            \n",
       "var gd = document.getElementById('73dca04d-c5cb-4d38-8249-12cfc81a546e');\n",
       "var x = new MutationObserver(function (mutations, observer) {{\n",
       "        var display = window.getComputedStyle(gd).display;\n",
       "        if (!display || display === 'none') {{\n",
       "            console.log([gd, 'removed!']);\n",
       "            Plotly.purge(gd);\n",
       "            observer.disconnect();\n",
       "        }}\n",
       "}});\n",
       "\n",
       "// Listen for the removal of the full notebook cells\n",
       "var notebookContainer = gd.closest('#notebook-container');\n",
       "if (notebookContainer) {{\n",
       "    x.observe(notebookContainer, {childList: true});\n",
       "}}\n",
       "\n",
       "// Listen for the clearing of the current output cell\n",
       "var outputEl = gd.closest('.output');\n",
       "if (outputEl) {{\n",
       "    x.observe(outputEl, {childList: true});\n",
       "}}\n",
       "\n",
       "                        })                };                });            </script>        </div>"
      ]
     },
     "metadata": {},
     "output_type": "display_data"
    }
   ],
   "source": [
    "fv.plot(dynamic=True, confidence=True, path='image_dir/bankrupcy.html')"
   ]
  },
  {
   "cell_type": "markdown",
   "metadata": {},
   "source": [
    "## Different feature importance methods"
   ]
  },
  {
   "cell_type": "code",
   "execution_count": 13,
   "metadata": {},
   "outputs": [
    {
     "name": "stderr",
     "output_type": "stream",
     "text": [
      "100%|██████████| 20/20 [06:11<00:00, 18.60s/it]\n",
      "100%|██████████| 20/20 [06:11<00:00, 18.57s/it]\n",
      "100%|██████████| 20/20 [06:01<00:00, 18.06s/it]\n",
      "100%|██████████| 20/20 [07:54<00:00, 23.70s/it]\n"
     ]
    }
   ],
   "source": [
    "num_rmvs = min(X.shape[-1], 20)\n",
    "rf_order = np.argsort(fv.predictor.feature_importances_)[::-1]\n",
    "fv_order = np.argsort(fv.importance)[::-1]\n",
    "pm_order = np.argsort(permutation_importance(fv.predictor, X_train, y_train, n_repeats=1)['importances_mean'])[::-1]\n",
    "\n",
    "drop_rf = accuracy_drop(rf_order[:20], fv.predictor, X_train, y_train, X_test, y_test)\n",
    "drop_fv = accuracy_drop(fv_order[:20], fv.predictor, X_train, y_train, X_test, y_test)\n",
    "drop_pm = accuracy_drop(pm_order[:20], fv.predictor, X_train, y_train, X_test, y_test)\n",
    "drop_rnd = np.mean([\n",
    "        accuracy_drop(np.random.permutation(X_train.shape[-1])[:20], fv.predictor, X_train, y_train, X_test, y_test)\n",
    "        for _ in range(1)], 0)"
   ]
  },
  {
   "cell_type": "code",
   "execution_count": 14,
   "metadata": {},
   "outputs": [
    {
     "data": {
      "text/plain": [
       "<matplotlib.legend.Legend at 0x7f06a12320b8>"
      ]
     },
     "execution_count": 14,
     "metadata": {},
     "output_type": "execute_result"
    },
    {
     "data": {
      "image/png": "[encoded data removed]",
      "text/plain": [
       "<Figure size 576x576 with 1 Axes>"
      ]
     },
     "metadata": {},
     "output_type": "display_data"
    }
   ],
   "source": [
    "fig = plt.figure(figsize=(8,8))\n",
    "plt.rcParams['font.size'] = 15\n",
    "plt.plot(np.arange(len(drop_fv)), 100 * np.array(drop_fv),  lw=5)\n",
    "plt.plot(np.arange(len(drop_rf)), 100 * np.array(drop_rf), ls='--', lw=5)\n",
    "plt.plot(np.arange(len(drop_pm)), 100 * np.array(drop_pm), ls='-.', lw=5)\n",
    "plt.plot(np.arange(len(drop_rnd)), 100 * np.array(drop_rnd), ls='dotted', lw=5)\n",
    "plt.xlabel('# of removed features', fontsize=25)\n",
    "plt.ylabel('Test accuracy (%)', fontsize=25)\n",
    "plt.legend(['FV', 'Gini', 'Permutation', 'Random'], fontsize=25)"
   ]
  },
  {
   "cell_type": "code",
   "execution_count": null,
   "metadata": {},
   "outputs": [],
   "source": []
  }
 ],
 "metadata": {
  "kernelspec": {
   "display_name": "Python 3",
   "language": "python",
   "name": "python3"
  },
  "language_info": {
   "codemirror_mode": {
    "name": "ipython",
    "version": 3
   },
   "file_extension": ".py",
   "mimetype": "text/x-python",
   "name": "python",
   "nbconvert_exporter": "python",
   "pygments_lexer": "ipython3",
   "version": "3.6.9"
  }
 },
 "nbformat": 4,
 "nbformat_minor": 2
}
